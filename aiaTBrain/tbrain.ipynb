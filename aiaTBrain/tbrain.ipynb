{
 "cells": [
  {
   "cell_type": "code",
   "execution_count": 1,
   "metadata": {},
   "outputs": [
    {
     "name": "stderr",
     "output_type": "stream",
     "text": [
      "/usr/local/lib/python3.6/site-packages/sklearn/cross_validation.py:41: DeprecationWarning: This module was deprecated in version 0.18 in favor of the model_selection module into which all the refactored classes and functions are moved. Also note that the interface of the new CV iterators are different from that of this module. This module will be removed in 0.20.\n",
      "  \"This module will be removed in 0.20.\", DeprecationWarning)\n"
     ]
    }
   ],
   "source": [
    "import pandas as pd\n",
    "import numpy as np\n",
    "from sklearn import cross_validation, svm, preprocessing, metrics\n",
    "from sklearn.model_selection import train_test_split"
   ]
  },
  {
   "cell_type": "markdown",
   "metadata": {},
   "source": [
    "## 建Label dict\n",
    "- key是FileID\n",
    "- value是Label\n",
    "- 方便最後塞Label用"
   ]
  },
  {
   "cell_type": "code",
   "execution_count": 2,
   "metadata": {
    "collapsed": true
   },
   "outputs": [],
   "source": [
    "df_train = pd.DataFrame(pd.read_csv('training-set.csv',header=None))\n",
    "df_train.columns = ['FileID','Label']\n",
    "\n",
    "dic = df_train.set_index('FileID').to_dict()\n",
    "\n",
    "dic = dic['Label']"
   ]
  },
  {
   "cell_type": "markdown",
   "metadata": {},
   "source": [
    "## 讀檔\n",
    "1. 把之前merge好的大csv讀進來\n",
    "2. Unnamed: 0欄位是沒用的，先刪掉\n",
    "3. 增加一個count欄位，方便算比數（應該有更好的寫法）\n",
    "4. 根據FileID group 幾個欄位出來\n",
    "    - 'Cnum':每個FileID有對應到的不同的CustomerID\n",
    "    - 'Pnum':每個FileID有對應到的不同的ProductID\n",
    "    - 'df_guby_t_max':每個FileID出現的最後時間\n",
    "    - 'df_guby_t_min':每個FileID第一次出現的時間\n",
    "    - 'times':每個FileID出現的次數\n",
    "    - 'time_diff'= df_guby_t_max - df_guby_t_min存在多長的時間，以天為單位\n",
    "    - 'tzone1' :檔案在0~6點被開啟的比例\n",
    "    - 'tzone2' :檔案在7~12點被開啟的比例\n",
    "    - 'tzone3' :檔案在13~18點被開啟的比例\n",
    "    - 'tzone4' :檔案在19~0點被開啟的比例\n",
    "5. 把'df_guby_t_max'及'df_guby_t_min'兩個欄位刪掉（比較沒有意義）\n",
    "6. 用上面建立好的dict把Label併進來\n",
    "7. 把Label != 3的歸類為X(train data);Label == 3 的歸類為y(test data)\n",
    "8. 用train_test_split把X分成訓練跟驗證資料"
   ]
  },
  {
   "cell_type": "code",
   "execution_count": 3,
   "metadata": {},
   "outputs": [
    {
     "name": "stderr",
     "output_type": "stream",
     "text": [
      "/usr/local/lib/python3.6/site-packages/IPython/core/interactiveshell.py:2698: DtypeWarning: Columns (4) have mixed types. Specify dtype option on import or set low_memory=False.\n",
      "  interactivity=interactivity, compiler=compiler, result=result)\n"
     ]
    }
   ],
   "source": [
    "df_log = pd.DataFrame(pd.read_csv('total_log.csv'))"
   ]
  },
  {
   "cell_type": "code",
   "execution_count": 20,
   "metadata": {},
   "outputs": [
    {
     "data": {
      "text/html": [
       "<div>\n",
       "<style>\n",
       "    .dataframe thead tr:only-child th {\n",
       "        text-align: right;\n",
       "    }\n",
       "\n",
       "    .dataframe thead th {\n",
       "        text-align: left;\n",
       "    }\n",
       "\n",
       "    .dataframe tbody tr th {\n",
       "        vertical-align: top;\n",
       "    }\n",
       "</style>\n",
       "<table border=\"1\" class=\"dataframe\">\n",
       "  <thead>\n",
       "    <tr style=\"text-align: right;\">\n",
       "      <th></th>\n",
       "      <th>FileID</th>\n",
       "      <th>CustomerID</th>\n",
       "      <th>QueryTS</th>\n",
       "      <th>ProductID</th>\n",
       "      <th>Dtime</th>\n",
       "      <th>Label</th>\n",
       "      <th>count</th>\n",
       "    </tr>\n",
       "  </thead>\n",
       "  <tbody>\n",
       "    <tr>\n",
       "      <th>83273105</th>\n",
       "      <td>965a5b2bfd7b11f8399c1c0bf4363748</td>\n",
       "      <td>f54adb48251c96cb369aaf77cc23a7d7</td>\n",
       "      <td>1496275182</td>\n",
       "      <td>55649</td>\n",
       "      <td>2017-05-31 23:59:42</td>\n",
       "      <td>3</td>\n",
       "      <td>1</td>\n",
       "    </tr>\n",
       "    <tr>\n",
       "      <th>83273106</th>\n",
       "      <td>2b079292f52388ef1d6d4fa1330d6f7e</td>\n",
       "      <td>286b944e21a255f44b28b4a2ce5f9f54</td>\n",
       "      <td>1496275185</td>\n",
       "      <td>55649</td>\n",
       "      <td>2017-05-31 23:59:45</td>\n",
       "      <td>3</td>\n",
       "      <td>1</td>\n",
       "    </tr>\n",
       "    <tr>\n",
       "      <th>83273107</th>\n",
       "      <td>2f4e50c843bfb8c3c691f892b7ba5b30</td>\n",
       "      <td>4f564b23a24fac46fcd8deaa80b66e52</td>\n",
       "      <td>1496275190</td>\n",
       "      <td>55649</td>\n",
       "      <td>2017-05-31 23:59:50</td>\n",
       "      <td>3</td>\n",
       "      <td>1</td>\n",
       "    </tr>\n",
       "    <tr>\n",
       "      <th>83273108</th>\n",
       "      <td>ab84a6314d8f27d0f5fac69a00979cfb</td>\n",
       "      <td>fdf59bed2c8756db5585dce51e6933d9</td>\n",
       "      <td>1496275191</td>\n",
       "      <td>55649</td>\n",
       "      <td>2017-05-31 23:59:51</td>\n",
       "      <td>3</td>\n",
       "      <td>1</td>\n",
       "    </tr>\n",
       "    <tr>\n",
       "      <th>83273109</th>\n",
       "      <td>9f68e6f9c56e3d26d65b18f0ae2268c8</td>\n",
       "      <td>7220b13b2f1ec5a8b0094323ad888ae2</td>\n",
       "      <td>1496275198</td>\n",
       "      <td>55649</td>\n",
       "      <td>2017-05-31 23:59:58</td>\n",
       "      <td>3</td>\n",
       "      <td>1</td>\n",
       "    </tr>\n",
       "  </tbody>\n",
       "</table>\n",
       "</div>"
      ],
      "text/plain": [
       "                                    FileID                        CustomerID  \\\n",
       "83273105  965a5b2bfd7b11f8399c1c0bf4363748  f54adb48251c96cb369aaf77cc23a7d7   \n",
       "83273106  2b079292f52388ef1d6d4fa1330d6f7e  286b944e21a255f44b28b4a2ce5f9f54   \n",
       "83273107  2f4e50c843bfb8c3c691f892b7ba5b30  4f564b23a24fac46fcd8deaa80b66e52   \n",
       "83273108  ab84a6314d8f27d0f5fac69a00979cfb  fdf59bed2c8756db5585dce51e6933d9   \n",
       "83273109  9f68e6f9c56e3d26d65b18f0ae2268c8  7220b13b2f1ec5a8b0094323ad888ae2   \n",
       "\n",
       "             QueryTS ProductID                Dtime  Label  count  \n",
       "83273105  1496275182     55649  2017-05-31 23:59:42      3      1  \n",
       "83273106  1496275185     55649  2017-05-31 23:59:45      3      1  \n",
       "83273107  1496275190     55649  2017-05-31 23:59:50      3      1  \n",
       "83273108  1496275191     55649  2017-05-31 23:59:51      3      1  \n",
       "83273109  1496275198     55649  2017-05-31 23:59:58      3      1  "
      ]
     },
     "execution_count": 20,
     "metadata": {},
     "output_type": "execute_result"
    }
   ],
   "source": [
    "df_log.tail()"
   ]
  },
  {
   "cell_type": "code",
   "execution_count": 29,
   "metadata": {},
   "outputs": [
    {
     "data": {
      "text/plain": [
       "0"
      ]
     },
     "execution_count": 29,
     "metadata": {},
     "output_type": "execute_result"
    }
   ],
   "source": [
    "int(df_log['Dtime'][0][11:-6])"
   ]
  },
  {
   "cell_type": "code",
   "execution_count": 5,
   "metadata": {
    "collapsed": true
   },
   "outputs": [],
   "source": [
    "df_log = df_log.drop('Unnamed: 0',axis = 1)"
   ]
  },
  {
   "cell_type": "code",
   "execution_count": 6,
   "metadata": {
    "collapsed": true
   },
   "outputs": [],
   "source": [
    "df_log['count'] = 1"
   ]
  },
  {
   "cell_type": "code",
   "execution_count": 44,
   "metadata": {
    "collapsed": true
   },
   "outputs": [],
   "source": [
    "df_log['apm'] = pd.to_numeric(df_log['Dtime'].str[11:-6])"
   ]
  },
  {
   "cell_type": "code",
   "execution_count": 65,
   "metadata": {},
   "outputs": [],
   "source": [
    "z1 = list(df_log[(df_log['apm']>0) & (df_log['apm']<=6)].index.values)\n",
    "z2 = list(df_log[(df_log['apm']>6) & (df_log['apm']<=12)].index.values)\n",
    "z3 = list(df_log[(df_log['apm']>12) & (df_log['apm']<=18)].index.values)\n",
    "z4 = list(df_log[(df_log['apm']>18) | (df_log['apm']==0)].index.values)"
   ]
  },
  {
   "cell_type": "code",
   "execution_count": 85,
   "metadata": {},
   "outputs": [],
   "source": [
    "df_log['tzone1'] = 0\n",
    "df_log['tzone2'] = 0\n",
    "df_log['tzone3'] = 0\n",
    "df_log['tzone4'] = 0 \n",
    "df_log.loc[z1,'tzone1'] = 1\n",
    "df_log.loc[z2,'tzone2'] = 1\n",
    "df_log.loc[z3,'tzone3'] = 1\n",
    "df_log.loc[z4,'tzone4'] = 1"
   ]
  },
  {
   "cell_type": "code",
   "execution_count": 89,
   "metadata": {
    "collapsed": true
   },
   "outputs": [],
   "source": [
    "df_tz = df_log.groupby(['FileID'])['tzone1','tzone2','tzone3','tzone4'].sum()"
   ]
  },
  {
   "cell_type": "code",
   "execution_count": 93,
   "metadata": {},
   "outputs": [
    {
     "data": {
      "text/plain": [
       "tzone1    39697\n",
       "tzone2    46133\n",
       "tzone3    26155\n",
       "tzone4    19949\n",
       "dtype: int64"
      ]
     },
     "execution_count": 93,
     "metadata": {},
     "output_type": "execute_result"
    }
   ],
   "source": [
    "df_tz.max()"
   ]
  },
  {
   "cell_type": "code",
   "execution_count": 7,
   "metadata": {
    "collapsed": true
   },
   "outputs": [],
   "source": [
    "df_guby_t_max = df_log.groupby('FileID')['QueryTS'].max()\n",
    "df_guby_t_min = df_log.groupby('FileID')['QueryTS'].min()"
   ]
  },
  {
   "cell_type": "code",
   "execution_count": 12,
   "metadata": {
    "collapsed": true
   },
   "outputs": [],
   "source": [
    "df_guby = df_log.groupby('FileID').CustomerID.nunique()"
   ]
  },
  {
   "cell_type": "code",
   "execution_count": 13,
   "metadata": {
    "collapsed": true
   },
   "outputs": [],
   "source": [
    "df_gubyp = df_log.groupby('FileID').ProductID.nunique()"
   ]
  },
  {
   "cell_type": "code",
   "execution_count": 15,
   "metadata": {
    "collapsed": true
   },
   "outputs": [],
   "source": [
    "df_gubycoun = df_log.groupby('FileID')['count'].sum()"
   ]
  },
  {
   "cell_type": "code",
   "execution_count": 16,
   "metadata": {
    "collapsed": true
   },
   "outputs": [],
   "source": [
    "total_data = pd.concat([df_guby, df_gubyp, df_guby_t_max, df_guby_t_min, df_gubycoun, df_tz], axis=1)\n",
    "total_data.columns = ['Cnum','Pnum','df_guby_t_max','df_guby_t_min','times','tzone1','tzone2','tzone3','tzone4']"
   ]
  },
  {
   "cell_type": "code",
   "execution_count": 17,
   "metadata": {
    "collapsed": true
   },
   "outputs": [],
   "source": [
    "total_data['time_diff'] = (total_data['df_guby_t_max'] - total_data['df_guby_t_min'])/(60*60*24)"
   ]
  },
  {
   "cell_type": "code",
   "execution_count": 19,
   "metadata": {
    "collapsed": true
   },
   "outputs": [],
   "source": [
    "total_data = total_data.drop(['df_guby_t_max', 'df_guby_t_min'],axis = 1)"
   ]
  },
  {
   "cell_type": "code",
   "execution_count": 97,
   "metadata": {
    "collapsed": true
   },
   "outputs": [],
   "source": [
    "total_data['tzone1'] = (total_data['tzone1'] / total_data['times'])*100\n",
    "total_data['tzone2'] = (total_data['tzone2'] / total_data['times'])*100 \n",
    "total_data['tzone3'] = (total_data['tzone3'] / total_data['times'])*100 \n",
    "total_data['tzone4'] = (total_data['tzone4'] / total_data['times'])*100"
   ]
  },
  {
   "cell_type": "code",
   "execution_count": 103,
   "metadata": {},
   "outputs": [],
   "source": [
    "ta = total_data.drop('Label',axis=1)"
   ]
  },
  {
   "cell_type": "code",
   "execution_count": 104,
   "metadata": {
    "collapsed": true
   },
   "outputs": [],
   "source": [
    "ta.to_csv('feature_byYoga.csv', sep=',', encoding='utf-8')"
   ]
  },
  {
   "cell_type": "code",
   "execution_count": 32,
   "metadata": {
    "scrolled": true
   },
   "outputs": [
    {
     "ename": "NameError",
     "evalue": "name 'train_data' is not defined",
     "output_type": "error",
     "traceback": [
      "\u001b[0;31m---------------------------------------------------------------------------\u001b[0m",
      "\u001b[0;31mNameError\u001b[0m                                 Traceback (most recent call last)",
      "\u001b[0;32m<ipython-input-32-21c1ff7be109>\u001b[0m in \u001b[0;36m<module>\u001b[0;34m()\u001b[0m\n\u001b[1;32m      1\u001b[0m \u001b[0mtotal_data\u001b[0m\u001b[0;34m[\u001b[0m\u001b[0;34m'Label'\u001b[0m\u001b[0;34m]\u001b[0m \u001b[0;34m=\u001b[0m \u001b[0;36m3\u001b[0m\u001b[0;34m\u001b[0m\u001b[0m\n\u001b[0;32m----> 2\u001b[0;31m \u001b[0;32mfor\u001b[0m \u001b[0mi\u001b[0m \u001b[0;32min\u001b[0m \u001b[0mrange\u001b[0m\u001b[0;34m(\u001b[0m\u001b[0mlen\u001b[0m\u001b[0;34m(\u001b[0m\u001b[0mtrain_data\u001b[0m\u001b[0;34m)\u001b[0m\u001b[0;34m)\u001b[0m\u001b[0;34m:\u001b[0m\u001b[0;34m\u001b[0m\u001b[0m\n\u001b[0m\u001b[1;32m      3\u001b[0m     \u001b[0;32mtry\u001b[0m\u001b[0;34m:\u001b[0m\u001b[0;34m\u001b[0m\u001b[0m\n\u001b[1;32m      4\u001b[0m         \u001b[0mtotal_data\u001b[0m\u001b[0;34m[\u001b[0m\u001b[0;34m'Label'\u001b[0m\u001b[0;34m]\u001b[0m\u001b[0;34m[\u001b[0m\u001b[0mi\u001b[0m\u001b[0;34m]\u001b[0m \u001b[0;34m=\u001b[0m \u001b[0mdic\u001b[0m\u001b[0;34m[\u001b[0m\u001b[0mtotal_data\u001b[0m\u001b[0;34m.\u001b[0m\u001b[0mindex\u001b[0m\u001b[0;34m[\u001b[0m\u001b[0mi\u001b[0m\u001b[0;34m]\u001b[0m\u001b[0;34m]\u001b[0m\u001b[0;34m\u001b[0m\u001b[0m\n\u001b[1;32m      5\u001b[0m     \u001b[0;32mexcept\u001b[0m\u001b[0;34m:\u001b[0m\u001b[0;34m\u001b[0m\u001b[0m\n",
      "\u001b[0;31mNameError\u001b[0m: name 'train_data' is not defined"
     ]
    }
   ],
   "source": [
    "total_data['Label'] = 3\n",
    "for i in range(len(total_data)):\n",
    "    try:\n",
    "        total_data['Label'][i] = dic[total_data.index[i]]\n",
    "    except:\n",
    "        total_data['Label'][i] = 3"
   ]
  },
  {
   "cell_type": "code",
   "execution_count": 72,
   "metadata": {
    "collapsed": true
   },
   "outputs": [],
   "source": [
    "X = train_data[train_data['Label'] != 3]\n",
    "y = train_data[train_data['Label'] == 3]"
   ]
  },
  {
   "cell_type": "code",
   "execution_count": 76,
   "metadata": {
    "collapsed": true
   },
   "outputs": [],
   "source": [
    "X = X.drop('Label',axis = 1)"
   ]
  },
  {
   "cell_type": "code",
   "execution_count": 82,
   "metadata": {
    "collapsed": true
   },
   "outputs": [],
   "source": [
    "df_train = df_train.set_index('FileID')"
   ]
  },
  {
   "cell_type": "code",
   "execution_count": 85,
   "metadata": {
    "collapsed": true
   },
   "outputs": [],
   "source": [
    "X_train, X_test, y_train, y_test = train_test_split(X, df_train, random_state = 7, test_size = 0.25)"
   ]
  },
  {
   "cell_type": "code",
   "execution_count": null,
   "metadata": {
    "collapsed": true
   },
   "outputs": [],
   "source": [
    "# x = train_data.values #returns a numpy array\n",
    "# min_max_scaler = preprocessing.MinMaxScaler()\n",
    "# x_scaled = min_max_scaler.fit_transform(x)\n",
    "# df = pd.DataFrame(x_scaled)"
   ]
  },
  {
   "cell_type": "markdown",
   "metadata": {},
   "source": [
    "## GBM\n",
    "- 裝XGB的時候碰到了問題，所以先用GBM做了\n",
    "- 做出來的預測是0,1不是機率（有點大的問題）\n",
    "- train的時候沒有做很多的校調，一次就傳上去了（結果只有0.5哈哈哈哈（別打我"
   ]
  },
  {
   "cell_type": "code",
   "execution_count": 94,
   "metadata": {
    "collapsed": true
   },
   "outputs": [],
   "source": [
    "from sklearn.ensemble import GradientBoostingClassifier\n",
    "from sklearn.metrics import accuracy_score"
   ]
  },
  {
   "cell_type": "code",
   "execution_count": 90,
   "metadata": {
    "collapsed": true
   },
   "outputs": [],
   "source": [
    "clf = GradientBoostingClassifier(n_estimators=500,max_depth=10,min_samples_split=5,min_samples_leaf=3)"
   ]
  },
  {
   "cell_type": "code",
   "execution_count": 91,
   "metadata": {},
   "outputs": [
    {
     "name": "stderr",
     "output_type": "stream",
     "text": [
      "/usr/local/lib/python3.6/site-packages/sklearn/utils/validation.py:547: DataConversionWarning: A column-vector y was passed when a 1d array was expected. Please change the shape of y to (n_samples, ), for example using ravel().\n",
      "  y = column_or_1d(y, warn=True)\n"
     ]
    },
    {
     "data": {
      "text/plain": [
       "GradientBoostingClassifier(criterion='friedman_mse', init=None,\n",
       "              learning_rate=0.1, loss='deviance', max_depth=10,\n",
       "              max_features=None, max_leaf_nodes=None,\n",
       "              min_impurity_decrease=0.0, min_impurity_split=None,\n",
       "              min_samples_leaf=3, min_samples_split=5,\n",
       "              min_weight_fraction_leaf=0.0, n_estimators=500,\n",
       "              presort='auto', random_state=None, subsample=1.0, verbose=0,\n",
       "              warm_start=False)"
      ]
     },
     "execution_count": 91,
     "metadata": {},
     "output_type": "execute_result"
    }
   ],
   "source": [
    "clf.fit(X_train,y_train)"
   ]
  },
  {
   "cell_type": "code",
   "execution_count": 92,
   "metadata": {
    "collapsed": true
   },
   "outputs": [],
   "source": [
    "pred_y = clf.predict(X_test)"
   ]
  },
  {
   "cell_type": "code",
   "execution_count": 95,
   "metadata": {},
   "outputs": [
    {
     "name": "stdout",
     "output_type": "stream",
     "text": [
      "Accuracy: 90.99%\n"
     ]
    }
   ],
   "source": [
    "accuracy = accuracy_score(y_test, pred_y )\n",
    "print(\"Accuracy: %.2f%%\" % (accuracy * 100.0))"
   ]
  },
  {
   "cell_type": "code",
   "execution_count": 101,
   "metadata": {
    "collapsed": true
   },
   "outputs": [],
   "source": [
    "y_pred = clf.predict(y)"
   ]
  },
  {
   "cell_type": "code",
   "execution_count": 100,
   "metadata": {
    "collapsed": true
   },
   "outputs": [],
   "source": [
    "y = y.drop('Label',axis = 1)"
   ]
  },
  {
   "cell_type": "code",
   "execution_count": 105,
   "metadata": {
    "collapsed": true
   },
   "outputs": [],
   "source": [
    "y['Probability'] = y_pred"
   ]
  },
  {
   "cell_type": "code",
   "execution_count": 112,
   "metadata": {
    "collapsed": true
   },
   "outputs": [],
   "source": [
    "y_final = y.drop(['Cnum','Pnum','times','time_diff'],axis = 1)"
   ]
  },
  {
   "cell_type": "code",
   "execution_count": 115,
   "metadata": {
    "collapsed": true
   },
   "outputs": [],
   "source": [
    "y_final['FileID'] = y_final.index"
   ]
  },
  {
   "cell_type": "code",
   "execution_count": 119,
   "metadata": {
    "collapsed": true
   },
   "outputs": [],
   "source": [
    "df_y = y_final.reset_index(drop=True)"
   ]
  },
  {
   "cell_type": "code",
   "execution_count": 121,
   "metadata": {
    "collapsed": true
   },
   "outputs": [],
   "source": [
    "df_y = df_y[['FileID', 'Probability']]"
   ]
  },
  {
   "cell_type": "code",
   "execution_count": 123,
   "metadata": {
    "collapsed": true
   },
   "outputs": [],
   "source": [
    "df_y.to_csv('tbrain_v2.csv', sep=',', encoding='utf-8')"
   ]
  },
  {
   "cell_type": "code",
   "execution_count": null,
   "metadata": {
    "collapsed": true
   },
   "outputs": [],
   "source": []
  }
 ],
 "metadata": {
  "kernelspec": {
   "display_name": "Python 3",
   "language": "python",
   "name": "python3"
  },
  "language_info": {
   "codemirror_mode": {
    "name": "ipython",
    "version": 3
   },
   "file_extension": ".py",
   "mimetype": "text/x-python",
   "name": "python",
   "nbconvert_exporter": "python",
   "pygments_lexer": "ipython3",
   "version": "3.6.2"
  }
 },
 "nbformat": 4,
 "nbformat_minor": 2
}
