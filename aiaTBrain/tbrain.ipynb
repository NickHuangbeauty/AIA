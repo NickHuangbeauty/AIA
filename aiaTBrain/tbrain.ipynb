{
 "cells": [
  {
   "cell_type": "code",
   "execution_count": 84,
   "metadata": {},
   "outputs": [],
   "source": [
    "import pandas as pd\n",
    "import numpy as np\n",
    "from sklearn import cross_validation, svm, preprocessing, metrics\n",
    "from sklearn.model_selection import train_test_split"
   ]
  },
  {
   "cell_type": "markdown",
   "metadata": {},
   "source": [
    "## 建Label dict\n",
    "- key是FileID\n",
    "- value是Label\n",
    "- 方便最後塞Label用"
   ]
  },
  {
   "cell_type": "code",
   "execution_count": 124,
   "metadata": {
    "collapsed": true
   },
   "outputs": [],
   "source": [
    "df_train = pd.DataFrame(pd.read_csv('training-set.csv',header=None))\n",
    "df_train.columns = ['FileID','Label']\n",
    "\n",
    "dic = df_train.set_index('FileID').to_dict()\n",
    "\n",
    "dic = dic['Label']"
   ]
  },
  {
   "cell_type": "markdown",
   "metadata": {},
   "source": [
    "## 讀檔\n",
    "1. 把之前merge好的大csv讀進來\n",
    "2. Unnamed: 0欄位是沒用的，先刪掉\n",
    "3. 增加一個count欄位，方便算比數（應該有更好的寫法）\n",
    "4. 根據FileID group 幾個欄位出來\n",
    "    - 'Cnum':每個FileID有對應到的不同的CustomerID\n",
    "    - 'Pnum':每個FileID有對應到的不同的ProductID\n",
    "    - 'df_guby_t_max':每個FileID出現的最後時間\n",
    "    - 'df_guby_t_min':每個FileID第一次出現的時間\n",
    "    - 'times':每個FileID出現的次數\n",
    "    - 'time_diff'= df_guby_t_max - df_guby_t_min存在多長的時間\n",
    "5. 把'df_guby_t_max'及'df_guby_t_min'兩個欄位刪掉（比較沒有意義）\n",
    "6. 用上面建立好的dict把Label併進來\n",
    "7. 把Label != 3的歸類為X(train data);Label == 3 的歸類為y(test data)\n",
    "8. 用train_test_split把X分成訓練跟驗證資料"
   ]
  },
  {
   "cell_type": "code",
   "execution_count": 2,
   "metadata": {},
   "outputs": [
    {
     "name": "stderr",
     "output_type": "stream",
     "text": [
      "/usr/local/lib/python3.6/site-packages/IPython/core/interactiveshell.py:2698: DtypeWarning: Columns (4) have mixed types. Specify dtype option on import or set low_memory=False.\n",
      "  interactivity=interactivity, compiler=compiler, result=result)\n"
     ]
    }
   ],
   "source": [
    "df_log = pd.DataFrame(pd.read_csv('total_log.csv'))"
   ]
  },
  {
   "cell_type": "code",
   "execution_count": 3,
   "metadata": {},
   "outputs": [
    {
     "data": {
      "text/html": [
       "<div>\n",
       "<style>\n",
       "    .dataframe thead tr:only-child th {\n",
       "        text-align: right;\n",
       "    }\n",
       "\n",
       "    .dataframe thead th {\n",
       "        text-align: left;\n",
       "    }\n",
       "\n",
       "    .dataframe tbody tr th {\n",
       "        vertical-align: top;\n",
       "    }\n",
       "</style>\n",
       "<table border=\"1\" class=\"dataframe\">\n",
       "  <thead>\n",
       "    <tr style=\"text-align: right;\">\n",
       "      <th></th>\n",
       "      <th>Unnamed: 0</th>\n",
       "      <th>FileID</th>\n",
       "      <th>CustomerID</th>\n",
       "      <th>QueryTS</th>\n",
       "      <th>ProductID</th>\n",
       "      <th>Dtime</th>\n",
       "      <th>Label</th>\n",
       "    </tr>\n",
       "  </thead>\n",
       "  <tbody>\n",
       "    <tr>\n",
       "      <th>0</th>\n",
       "      <td>0</td>\n",
       "      <td>dfccd8e23f0b03ec4db7a9a745ad7399</td>\n",
       "      <td>64573086fcfee53e8fa6d8f1f44101bb</td>\n",
       "      <td>1488326402</td>\n",
       "      <td>c105a0</td>\n",
       "      <td>2017-03-01 00:00:02</td>\n",
       "      <td>3</td>\n",
       "    </tr>\n",
       "    <tr>\n",
       "      <th>1</th>\n",
       "      <td>1</td>\n",
       "      <td>29962f9102502ee76bb3cddb8cf8c9ad</td>\n",
       "      <td>597df153a25e8e548cbe35f6e4da9cbb</td>\n",
       "      <td>1488326403</td>\n",
       "      <td>c105a0</td>\n",
       "      <td>2017-03-01 00:00:03</td>\n",
       "      <td>3</td>\n",
       "    </tr>\n",
       "    <tr>\n",
       "      <th>2</th>\n",
       "      <td>2</td>\n",
       "      <td>fa3fa642378b9d98c0e2770611b92eb3</td>\n",
       "      <td>1db24b8cc0a7ce59634629e7f292520f</td>\n",
       "      <td>1488326405</td>\n",
       "      <td>c105a0</td>\n",
       "      <td>2017-03-01 00:00:05</td>\n",
       "      <td>3</td>\n",
       "    </tr>\n",
       "    <tr>\n",
       "      <th>3</th>\n",
       "      <td>3</td>\n",
       "      <td>48f90ea1af2c04677c6890db392ca088</td>\n",
       "      <td>5ca6dd0b8863069ab1efe014de82cecf</td>\n",
       "      <td>1488326411</td>\n",
       "      <td>c76d58</td>\n",
       "      <td>2017-03-01 00:00:11</td>\n",
       "      <td>3</td>\n",
       "    </tr>\n",
       "    <tr>\n",
       "      <th>4</th>\n",
       "      <td>4</td>\n",
       "      <td>d0ff310c25e3bd7ae919d34dc38fb0de</td>\n",
       "      <td>5ca6dd0b8863069ab1efe014de82cecf</td>\n",
       "      <td>1488326411</td>\n",
       "      <td>c76d58</td>\n",
       "      <td>2017-03-01 00:00:11</td>\n",
       "      <td>3</td>\n",
       "    </tr>\n",
       "  </tbody>\n",
       "</table>\n",
       "</div>"
      ],
      "text/plain": [
       "   Unnamed: 0                            FileID  \\\n",
       "0           0  dfccd8e23f0b03ec4db7a9a745ad7399   \n",
       "1           1  29962f9102502ee76bb3cddb8cf8c9ad   \n",
       "2           2  fa3fa642378b9d98c0e2770611b92eb3   \n",
       "3           3  48f90ea1af2c04677c6890db392ca088   \n",
       "4           4  d0ff310c25e3bd7ae919d34dc38fb0de   \n",
       "\n",
       "                         CustomerID     QueryTS ProductID  \\\n",
       "0  64573086fcfee53e8fa6d8f1f44101bb  1488326402    c105a0   \n",
       "1  597df153a25e8e548cbe35f6e4da9cbb  1488326403    c105a0   \n",
       "2  1db24b8cc0a7ce59634629e7f292520f  1488326405    c105a0   \n",
       "3  5ca6dd0b8863069ab1efe014de82cecf  1488326411    c76d58   \n",
       "4  5ca6dd0b8863069ab1efe014de82cecf  1488326411    c76d58   \n",
       "\n",
       "                 Dtime  Label  \n",
       "0  2017-03-01 00:00:02      3  \n",
       "1  2017-03-01 00:00:03      3  \n",
       "2  2017-03-01 00:00:05      3  \n",
       "3  2017-03-01 00:00:11      3  \n",
       "4  2017-03-01 00:00:11      3  "
      ]
     },
     "execution_count": 3,
     "metadata": {},
     "output_type": "execute_result"
    }
   ],
   "source": [
    "df_log.head()"
   ]
  },
  {
   "cell_type": "code",
   "execution_count": 8,
   "metadata": {},
   "outputs": [],
   "source": [
    "df_log = df_log.drop('Unnamed: 0',axis = 1)"
   ]
  },
  {
   "cell_type": "code",
   "execution_count": 27,
   "metadata": {
    "collapsed": true
   },
   "outputs": [],
   "source": [
    "df_log['count'] = 1"
   ]
  },
  {
   "cell_type": "code",
   "execution_count": 28,
   "metadata": {
    "collapsed": true
   },
   "outputs": [],
   "source": [
    "df_guby_t_max = df_log.groupby('FileID')['QueryTS'].idxmax()"
   ]
  },
  {
   "cell_type": "code",
   "execution_count": 30,
   "metadata": {
    "collapsed": true
   },
   "outputs": [],
   "source": [
    "df_guby_t_min = df_log.groupby('FileID')['QueryTS'].idxmin()"
   ]
  },
  {
   "cell_type": "code",
   "execution_count": 11,
   "metadata": {},
   "outputs": [],
   "source": [
    "df_guby = df_log.groupby('FileID').CustomerID.nunique()"
   ]
  },
  {
   "cell_type": "code",
   "execution_count": 18,
   "metadata": {
    "collapsed": true
   },
   "outputs": [],
   "source": [
    "df_gubyp = df_log.groupby('FileID')['QueryTS']"
   ]
  },
  {
   "cell_type": "code",
   "execution_count": 32,
   "metadata": {
    "collapsed": true
   },
   "outputs": [],
   "source": [
    "df_gubycoun = df_log.groupby('FileID')['count'].sum()"
   ]
  },
  {
   "cell_type": "code",
   "execution_count": 23,
   "metadata": {},
   "outputs": [],
   "source": [
    "gu = pd.DataFrame(df_guby)"
   ]
  },
  {
   "cell_type": "code",
   "execution_count": 34,
   "metadata": {},
   "outputs": [],
   "source": [
    "train_data = pd.concat([df_guby, df_gubyp, df_guby_t_max, df_guby_t_min, df_gubycoun], axis=1)"
   ]
  },
  {
   "cell_type": "code",
   "execution_count": 37,
   "metadata": {
    "collapsed": true
   },
   "outputs": [],
   "source": [
    "train_data.columns = ['Cnum','Pnum','df_guby_t_max','df_guby_t_min','times']"
   ]
  },
  {
   "cell_type": "code",
   "execution_count": 38,
   "metadata": {},
   "outputs": [],
   "source": [
    "train_data['time_diff'] = train_data['df_guby_t_max'] - train_data['df_guby_t_min']"
   ]
  },
  {
   "cell_type": "code",
   "execution_count": 43,
   "metadata": {},
   "outputs": [],
   "source": [
    "train_data = train_data.drop(['df_guby_t_max', 'df_guby_t_min'],axis = 1)"
   ]
  },
  {
   "cell_type": "code",
   "execution_count": 69,
   "metadata": {
    "scrolled": true
   },
   "outputs": [],
   "source": [
    "train_data['Label'] = 3\n",
    "for i in range(len(train_data)):\n",
    "    try:\n",
    "        train_data['Label'][i] = dic[train_data.index[i]]\n",
    "    except:\n",
    "        train_data['Label'][i] = 3"
   ]
  },
  {
   "cell_type": "code",
   "execution_count": 72,
   "metadata": {},
   "outputs": [],
   "source": [
    "X = train_data[train_data['Label'] != 3]\n",
    "y = train_data[train_data['Label'] == 3]"
   ]
  },
  {
   "cell_type": "code",
   "execution_count": 76,
   "metadata": {},
   "outputs": [],
   "source": [
    "X = X.drop('Label',axis = 1)"
   ]
  },
  {
   "cell_type": "code",
   "execution_count": 82,
   "metadata": {},
   "outputs": [],
   "source": [
    "df_train = df_train.set_index('FileID')"
   ]
  },
  {
   "cell_type": "code",
   "execution_count": 85,
   "metadata": {},
   "outputs": [],
   "source": [
    "X_train, X_test, y_train, y_test = train_test_split(X, df_train, random_state = 7, test_size = 0.25)"
   ]
  },
  {
   "cell_type": "code",
   "execution_count": null,
   "metadata": {
    "collapsed": true
   },
   "outputs": [],
   "source": [
    "# x = train_data.values #returns a numpy array\n",
    "# min_max_scaler = preprocessing.MinMaxScaler()\n",
    "# x_scaled = min_max_scaler.fit_transform(x)\n",
    "# df = pd.DataFrame(x_scaled)"
   ]
  },
  {
   "cell_type": "markdown",
   "metadata": {},
   "source": [
    "## GBM\n",
    "- 裝XGB的時候碰到了問題，所以先用GBM做了\n",
    "- 做出來的預測是0,1不是機率（有點大的問題）\n",
    "- train的時候沒有做很多的校調，一次就傳上去了（結果只有0.5哈哈哈哈（別打我"
   ]
  },
  {
   "cell_type": "code",
   "execution_count": 94,
   "metadata": {},
   "outputs": [],
   "source": [
    "from sklearn.ensemble import GradientBoostingClassifier\n",
    "from sklearn.metrics import accuracy_score"
   ]
  },
  {
   "cell_type": "code",
   "execution_count": 90,
   "metadata": {
    "collapsed": true
   },
   "outputs": [],
   "source": [
    "clf = GradientBoostingClassifier(n_estimators=500,max_depth=10,min_samples_split=5,min_samples_leaf=3)"
   ]
  },
  {
   "cell_type": "code",
   "execution_count": 91,
   "metadata": {},
   "outputs": [
    {
     "name": "stderr",
     "output_type": "stream",
     "text": [
      "/usr/local/lib/python3.6/site-packages/sklearn/utils/validation.py:547: DataConversionWarning: A column-vector y was passed when a 1d array was expected. Please change the shape of y to (n_samples, ), for example using ravel().\n",
      "  y = column_or_1d(y, warn=True)\n"
     ]
    },
    {
     "data": {
      "text/plain": [
       "GradientBoostingClassifier(criterion='friedman_mse', init=None,\n",
       "              learning_rate=0.1, loss='deviance', max_depth=10,\n",
       "              max_features=None, max_leaf_nodes=None,\n",
       "              min_impurity_decrease=0.0, min_impurity_split=None,\n",
       "              min_samples_leaf=3, min_samples_split=5,\n",
       "              min_weight_fraction_leaf=0.0, n_estimators=500,\n",
       "              presort='auto', random_state=None, subsample=1.0, verbose=0,\n",
       "              warm_start=False)"
      ]
     },
     "execution_count": 91,
     "metadata": {},
     "output_type": "execute_result"
    }
   ],
   "source": [
    "clf.fit(X_train,y_train)"
   ]
  },
  {
   "cell_type": "code",
   "execution_count": 92,
   "metadata": {
    "collapsed": true
   },
   "outputs": [],
   "source": [
    "pred_y = clf.predict(X_test)"
   ]
  },
  {
   "cell_type": "code",
   "execution_count": 95,
   "metadata": {},
   "outputs": [
    {
     "name": "stdout",
     "output_type": "stream",
     "text": [
      "Accuracy: 90.99%\n"
     ]
    }
   ],
   "source": [
    "accuracy = accuracy_score(y_test, pred_y )\n",
    "print(\"Accuracy: %.2f%%\" % (accuracy * 100.0))"
   ]
  },
  {
   "cell_type": "code",
   "execution_count": 101,
   "metadata": {},
   "outputs": [],
   "source": [
    "y_pred = clf.predict(y)"
   ]
  },
  {
   "cell_type": "code",
   "execution_count": 100,
   "metadata": {},
   "outputs": [],
   "source": [
    "y = y.drop('Label',axis = 1)"
   ]
  },
  {
   "cell_type": "code",
   "execution_count": 105,
   "metadata": {},
   "outputs": [],
   "source": [
    "y['Probability'] = y_pred"
   ]
  },
  {
   "cell_type": "code",
   "execution_count": 112,
   "metadata": {},
   "outputs": [],
   "source": [
    "y_final = y.drop(['Cnum','Pnum','times','time_diff'],axis = 1)"
   ]
  },
  {
   "cell_type": "code",
   "execution_count": 115,
   "metadata": {},
   "outputs": [],
   "source": [
    "y_final['FileID'] = y_final.index"
   ]
  },
  {
   "cell_type": "code",
   "execution_count": 119,
   "metadata": {},
   "outputs": [],
   "source": [
    "df_y = y_final.reset_index(drop=True)"
   ]
  },
  {
   "cell_type": "code",
   "execution_count": 121,
   "metadata": {},
   "outputs": [],
   "source": [
    "df_y = df_y[['FileID', 'Probability']]"
   ]
  },
  {
   "cell_type": "code",
   "execution_count": 123,
   "metadata": {},
   "outputs": [],
   "source": [
    "df_y.to_csv('tbrain_v2.csv', sep=',', encoding='utf-8')"
   ]
  },
  {
   "cell_type": "code",
   "execution_count": null,
   "metadata": {
    "collapsed": true
   },
   "outputs": [],
   "source": []
  }
 ],
 "metadata": {
  "kernelspec": {
   "display_name": "Python 3",
   "language": "python",
   "name": "python3"
  },
  "language_info": {
   "codemirror_mode": {
    "name": "ipython",
    "version": 3
   },
   "file_extension": ".py",
   "mimetype": "text/x-python",
   "name": "python",
   "nbconvert_exporter": "python",
   "pygments_lexer": "ipython3",
   "version": "3.6.2"
  }
 },
 "nbformat": 4,
 "nbformat_minor": 2
}
