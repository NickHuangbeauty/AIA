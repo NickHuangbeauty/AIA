{
 "cells": [
  {
   "cell_type": "code",
   "execution_count": 1,
   "metadata": {},
   "outputs": [
    {
     "name": "stderr",
     "output_type": "stream",
     "text": [
      "/usr/local/lib/python3.6/site-packages/sklearn/cross_validation.py:41: DeprecationWarning: This module was deprecated in version 0.18 in favor of the model_selection module into which all the refactored classes and functions are moved. Also note that the interface of the new CV iterators are different from that of this module. This module will be removed in 0.20.\n",
      "  \"This module will be removed in 0.20.\", DeprecationWarning)\n"
     ]
    }
   ],
   "source": [
    "import pandas as pd\n",
    "import numpy as np\n",
    "from sklearn import cross_validation, svm, preprocessing, metrics\n",
    "from sklearn.model_selection import train_test_split"
   ]
  },
  {
   "cell_type": "markdown",
   "metadata": {},
   "source": [
    "## 建Label dict\n",
    "- key是FileID\n",
    "- value是Label\n",
    "- 方便最後塞Label用"
   ]
  },
  {
   "cell_type": "code",
   "execution_count": 58,
   "metadata": {},
   "outputs": [
    {
     "data": {
      "text/plain": [
       "['0000e2398b12121a85166fed5fe2a3da',\n",
       " '0001fe8dce14ce099aa6ca8ea5026ea7',\n",
       " '00027f50019000accc492e5684efc818',\n",
       " '00028c9da3573ec50db74b44310ae507',\n",
       " '0003dc8130969abe688cadf5f14ea19f',\n",
       " '000462baadff8a02f7f6fef84d242eed',\n",
       " '0005e4c0263f52453438ddd0d55aef82',\n",
       " '0006ac9aadbdbf2fed5e62b4e463daa1',\n",
       " '0006d16543c1c4866dfa59fbbf7eedab',\n",
       " '0007819a84e047a78fbbd620557104ad',\n",
       " '0008720f6bfadf1aa4039a856eef3ecb',\n",
       " '000a00e6939f803bbf4aaf51b39048d0',\n",
       " '000b4096d7a0962245181f01e002b203',\n",
       " '000d282c41fc76964cdc31b805c464a7',\n",
       " '000d409d670038a868ed471a8334345d',\n",
       " '000f15bf6a8f0b51126ece0ce93af65c',\n",
       " '0010f818848455dfe997e69ee03518ef',\n",
       " '00117b31bd107c43123c8a0180dc036c',\n",
       " '0011d5f78c56a18dbb60a455c084ecca',\n",
       " '0012028fdd971d39caa88c8d0136334a',\n",
       " '001543427ff6300877e6a44e354588a6',\n",
       " '0015734d9e317de07623fd04ddaef05a',\n",
       " '00192fd48e421b51228e63845df46b9c',\n",
       " '001abb71230ddab7ff7016ccfac80d16',\n",
       " '001ac19de0eb93f585f74c2d207d9afc',\n",
       " '001fbbcf7a772e68e7ca1accf93e807d',\n",
       " '00204f1e3ee2102835b99b1cd372a8d5',\n",
       " '0021c7f072ad0e8068ab8c611700bfe1',\n",
       " '0023276a212ce8efa247fc1bca44b853',\n",
       " '0023a488eab672009fd8a97aa2a930a8',\n",
       " '00245e6ba06c7142c6c8e9b60b0b4afc',\n",
       " '00245e8c6aa3db195be49c04ecacb551',\n",
       " '00272b94de0e8e2af3cd67422388ddba',\n",
       " '0029bf6bbac4cb8ef325828408ca8721',\n",
       " '002a80d574a26583900e0b1e199c4ef8',\n",
       " '002d78cefc2397e89c416fb1938024d8',\n",
       " '002dda05885ccc7a9872aa99adb6b153',\n",
       " '002e7d021896a755c1f77b331e80b5c1',\n",
       " '00300d8402fbd9d8a74af5478b1326d6',\n",
       " '0033e984df54bbaa1ead7d66fbad38f0',\n",
       " '0034191f1ba86a77526df5f2a7188a2c',\n",
       " '00391785ae2604198ff96170941d7f65',\n",
       " '003d65f69dc2790ed89f88702cef2699',\n",
       " '00407cec5976cfdfd06e2597ebbaa8d2',\n",
       " '004225ae888890c798f8cbdbb36b75d5',\n",
       " '00450228a40e22a5dbdf455d95183f47',\n",
       " '00467b962c09b4c1b592619ae62d99cf',\n",
       " '00470f8f35183b45d26e8effc80a8330',\n",
       " '004718956f7ca07fbbc7c86d8c1cb76b',\n",
       " '004749a2597c0155e436662ee6ba7892',\n",
       " '004904cdf0c893c69cc79a0cad7bd999',\n",
       " '004a72a5de1a5df5d6609b7462c75ed5',\n",
       " '004a7cde3be77397eb091812b3f4f7ca',\n",
       " '004b141ca2ca4ad89f97eef26fb10fef',\n",
       " '004bbd02aa01aa1cbea7c207174d412b',\n",
       " '004e57a598c4e1f392e62d2ce7cac527',\n",
       " '004f7386973aeaa39b0c01cacc151289',\n",
       " '0050d3f93604d2bc3006b14b78065453',\n",
       " '005426fcb3b3277882745efefd6dfbd7',\n",
       " '00548cf8a412e19debe1eff9897091e7',\n",
       " '00588b641ce4b0c1ae31a1c66cffb440',\n",
       " '0058fec008d105f7948a116e9f86dec8',\n",
       " '005abdfb0f6588fcb04c03b6b94becbe',\n",
       " '00606292a9ae11820c171ac20f5d74df',\n",
       " '0062786a8d4f6e20d045e935b5c2e758',\n",
       " '006437b9566ddbb66183d92a8ee97c59',\n",
       " '0064453248c97755a19c4f7a42abd596',\n",
       " '00646177933e701e0201e75d04f94868',\n",
       " '00661fcff2bfdda6cd364fe406171789',\n",
       " '00663a98933f071da2b001436c9c5348',\n",
       " '00675dc5a80eac606c89e61a486f0761',\n",
       " '0067d773966f2fcb3c982e8378fd08ac',\n",
       " '0068c52791abcce56eb00d5266cba322',\n",
       " '0068f88387909fe6f1f3caea59bc423d',\n",
       " '006aa6cf6a505c4143612f9fea3efc2d',\n",
       " '006bb7a6bbd825209b2d59d42026eb91',\n",
       " '006c27781f4d8e826102151c25e16b0f',\n",
       " '006d56a4a7250086410987a1d9698c42',\n",
       " '006ff22c6e01a5888dcb964c32d82512',\n",
       " '00701df6e993201018c47e01aa3bca42',\n",
       " '007101f14bedb459e1e9316caa2c1ab3',\n",
       " '00712da670cf03ff281a9ec11ceed2de',\n",
       " '0071303ea5067af92f0569a0e8214f24',\n",
       " '00742407fafe30ebc58f74e6561d77ab',\n",
       " '0074a9c94457a876b84e997cd29e561f',\n",
       " '0074bb919eec0bef189a986b1fc0c257',\n",
       " '0074de311feb04bea93a705972a6fa22',\n",
       " '00779c47016f882bbf960bff35ce8c49',\n",
       " '0077b7caff1c33ee8b7ba9d7170be1b1',\n",
       " '0079802d502f788a43a873e30a06b416',\n",
       " '007cb2b19304d60879ea9f794ddc8375',\n",
       " '00804b757a96c11f0de508d6149649dd',\n",
       " '0082081ec55d48303c9ef712cccd2eb5',\n",
       " '008415cb918e23fe40720081e9d194a6',\n",
       " '008651b336e93b3b65a609c2133aa775',\n",
       " '00867981033d6a15171908cb03f692ff',\n",
       " '0087304d5bee451f0d82c7407b0fa7d1',\n",
       " '0087e85caf760ff171b1774bafcafcae',\n",
       " '008c37885beb7ed4594044d00beed7ca',\n",
       " '008e0adaa5f026a92d949f90efb9f0f0',\n",
       " '008ee5845d546a5358a2d767b710789d',\n",
       " '008f05a1d546331a8ccd69d1268921e7',\n",
       " '008f43f81999afb64e1bae5e5721afd3',\n",
       " '009013d362d08e7f4ea6e6e567b8da22',\n",
       " '00901ea1819d497e197738a21cf4b5d6',\n",
       " '00908d7e1814e3e29ba727cc4b2d8563',\n",
       " '00922d1ed5b49ae8699014b2ea696ea5',\n",
       " '009693719149a85bfee3e36aa63b7770',\n",
       " '0096f234c78c4e9a1990d737bb350fde',\n",
       " '00976c6b03b0aa47bb934731ff79d2ad',\n",
       " '009882dad455dca89cbb5bdc0b495e41',\n",
       " '009a798a6580be697979a13ffb2ee245',\n",
       " '009baf7faae650778cf96b8b4a572aa0',\n",
       " '009cd3bf304fa3987169cc0199933c90',\n",
       " '009e8d71772576e345c4dace9dd20244',\n",
       " '00a00ed7bbfbcc4feeb53263a3773039',\n",
       " '00a0fadf6f4b4d244459b3bc8f6ee7fa',\n",
       " '00a140389d9650a6c3b9192045b54d1c',\n",
       " '00a1d10d97c2ec77aaa4845b5ca19029',\n",
       " '00a252a0d275ff418aa5606f457feeb2',\n",
       " '00a2772bc5f56dba2b525c26a92b90e8',\n",
       " '00a2a5243fe2057745859a4a244e53b7',\n",
       " '00a3c537afa4b6497d87742d8cb58df7',\n",
       " '00a3d5dfda00429b06b2362f863d1a64',\n",
       " '00a4786fb31e7f35b49040e8bd81cc91',\n",
       " '00a60a703e39d0e595e41b0a5034ba71',\n",
       " '00a63f5212e08df2a9e2e9839dfca110',\n",
       " '00a6ece3b961c3cfea8498bf0ff5bac2',\n",
       " '00a817177758acc0d47d3f96c5d5fc0c',\n",
       " '00a885e87beb6fb1f6ca6ee9eb783779',\n",
       " '00a92b584bfcf58b70d5e965e91da03c',\n",
       " '00a9dcdfad9a8166235000d150bb46e6',\n",
       " '00aa6542e78f023ef7a19387fc5f2bdd',\n",
       " '00aaa21cc049207866b35707ab105a86',\n",
       " '00ac3c9f6f8b58b3d8be991c44e11872',\n",
       " '00b23a6c3f2ddb0218c6d15b6bb0faac',\n",
       " '00b728a7ed0b0c36e7fd98a0e77c923a',\n",
       " '00b9dbff0bfdf530b5cd3ad28ca8e981',\n",
       " '00baa8960e771066b3929d8d121e5770',\n",
       " '00bb0d62470340c81cc56348abe47b51',\n",
       " '00bceed348272898634633a39a24c765',\n",
       " '00bde0f34ee065989b7a816c80e191ce',\n",
       " '00bf11cf3da869516c332fb98a52713e',\n",
       " '00c05e46dac14fb20bdf8f9f0e58be17',\n",
       " '00c09ea30d0bcb24b51a78628655f1f1',\n",
       " '00c0a22f61b1b165d773997909a28f71',\n",
       " '00c16cb2394a932c094c401c15c45c4d',\n",
       " '00c236ddc7a2d44f8d15de2d7304cb75',\n",
       " '00c38840def1d65ac83b21a8208693fc',\n",
       " '00c3ce653208ea79060d3f076157fea6',\n",
       " '00c53dcce81a8ba2428ee204ecd68185',\n",
       " '00c57056a3a3b656fe7a0321fef871a9',\n",
       " '00c636c3cb406c9403f81a0ab8286a9d',\n",
       " '00c664a1dcb04fbc5ae86ab50a10f77e',\n",
       " '00c797e69c59bbfaca62c4fb19cc6b85',\n",
       " '00c7ef258302fc8c20df1de4ad0b962d',\n",
       " '00ca7c1bdccd3a1eaeb9125f96b470cf',\n",
       " '00cc3e15a0f2aad83d53752c10fbd2e3',\n",
       " '00cd4a26a4b6db4736b447d93863b18f',\n",
       " '00ce7cccc7b8c9639860ffa19e355254',\n",
       " '00d143869adaf263057fb533b7c1d61e',\n",
       " '00d19cf6a766f7060f13448eb258f6d7',\n",
       " '00d37d5360716660f7f51b14053d4c8d',\n",
       " '00d3ce1d4f01f0f497e4d4d369cbaf1b',\n",
       " '00d444d44957085b14c7078ca6793f26',\n",
       " '00d8fec40695a9d9da87c86003869f29',\n",
       " '00db47ab7c8df3bdc549ab89e1c2e904',\n",
       " '00dbb1cc42124292b3998ebcc0134943',\n",
       " '00dc2e63f26f7dcb35340c72935dae2c',\n",
       " '00dee1252a694975244cfdbabeb6e46a',\n",
       " '00e03b46749b190b0a8602d9c32dc231',\n",
       " '00e4b9e7c0e261f615ca02578e47de14',\n",
       " '00e5afed4af58cd2d8818583c5697116',\n",
       " '00e80be5bd7c9bb30954959ec371b1fc',\n",
       " '00eb06a8d48130e32b8b465bdbd96df7',\n",
       " '00eec152d2ffff48b4fe1202ee265f60',\n",
       " '00f282dfd3362865b4612da162ceff71',\n",
       " '00f3ac0f0e8def1b6704f0af4144668b',\n",
       " '00f4c279a319992cb29bff72dc16045e',\n",
       " '00f4d3339d5d2eaad3aa085385ed2fc6',\n",
       " '00f53907dc82050dbf3314dfb5e0aec1',\n",
       " '00f5aecb9b058eebbe7f90aa3e86b60f',\n",
       " '00f6679a76e9cc7a79146a14336b6349',\n",
       " '00f678b9c8b689b48b7ae3edc0d9566c',\n",
       " '00f83db3c40ce4941a6ec9781803d83a',\n",
       " '00f96c3786f8487ac1fb66fdbfd0d314',\n",
       " '00f9f159507a6a1fc28378a70c170ce1',\n",
       " '00fae8510bd2b149bd4ec77598382e4d',\n",
       " '00fd343e99d6a93f719b6580394a64a7',\n",
       " '00ff41de2fab610efb3a2a0a1e6a525e',\n",
       " '0100f1e9d8207a46ebc89b48173d7804',\n",
       " '0101e9c1de9502b14054fe7e08a97301',\n",
       " '0103339ec2be7d31d5b6ce544e22de72',\n",
       " '01038b3c68f64a439322619445685903',\n",
       " '0104f78977bad82cdfa8e3e9a7aee366',\n",
       " '0105890a2f1f0214585c3888aebeae30',\n",
       " '0105958355ed34ecb88d8089f61d65ee',\n",
       " '0105e27c0ad772415bbac699ddd4ef31',\n",
       " '0108caaa0e24e132653b70b9da487402',\n",
       " '010fe9b243ec235d7fcbda0c85c73d50',\n",
       " '0110c30ab2ba888a43cacbfb16b7cd97',\n",
       " '01129ebcec5b5cecf1383617d06dbe61',\n",
       " '011362d80367aa2902e85b2c7dfb3815',\n",
       " '011369beb2e171a204a2d7ffe86fcda9',\n",
       " '0113f87f63fea04eb877b7dccb9164d6',\n",
       " '01141846bba730c8933a3e536a194407',\n",
       " '01157a87ec6ae63b8ad5b562ab267fac',\n",
       " '01179e527d1a629ec0309c9ce714726b',\n",
       " '0117c95e850a62ec44ea8893056ecfef',\n",
       " '0117cae93297a7f66c5f58867a7baa8e',\n",
       " '0118c2f1cfe6c8061284a364e7b911fb',\n",
       " '0119380356f76ff0274ac3bfe361a294',\n",
       " '011a97436388f2cb59bd3ac5c87f9c23',\n",
       " '011be2a3cb9f5f6d9cbb31bddb9d381c',\n",
       " '011c5523dbbec44679fe542c50eeb282',\n",
       " '011d257435de62a829c1d2c79bb2d23f',\n",
       " '011e66f3060a2b317c88fefeb12f880a',\n",
       " '012095c0322d76b3f70bf59dc95cc628',\n",
       " '0120c63cb633cc17c0488d945a238679',\n",
       " '0121e898cd080775c94127708be5fa35',\n",
       " '01248242101dc2a963bfab3b6fcdec42',\n",
       " '01248c3d45ab196ca920fbed2ba533aa',\n",
       " '012707feb1714a0a5052d664898c371b',\n",
       " '0127a7fab1a1e2759c3b55755dbc0144',\n",
       " '0129be0c2613520f29527881dc11dae4',\n",
       " '0129ee48f1a482fa65d890e203ef2f58',\n",
       " '012a1db94139fe69701fc5905e40d5cc',\n",
       " '012a5163d643359a9419435f17439caa',\n",
       " '012b0d44cfbdc570e580683e0d293f3a',\n",
       " '012d779df2755616e564d637f5578e17',\n",
       " '012db66bd0c3f638a095f5cc21b4a505',\n",
       " '012ebdb4c1bf3d01370446c4bc6eb59c',\n",
       " '012ebe9a6e1761c64c13ea6375a33b4a',\n",
       " '012f7033e5adfa827853d0592482b7d8',\n",
       " '01304d67cd20f5743124e3fee4a9a269',\n",
       " '01307772476d9751cacda4635f75f99a',\n",
       " '013245b5b40336258c4af105791b0405',\n",
       " '0132d1c6c97f76e9219a0c6cef04cd31',\n",
       " '0133c7e7efd5f8e28281c825cba301f6',\n",
       " '013493db180f2f8f53d8fe3aabf10660',\n",
       " '0134b674f98c020341ee9c9298c558db',\n",
       " '0134c1dd20ac87b13aa21394a57c5dcb',\n",
       " '013500ae273c0c641884ba7e2fd96047',\n",
       " '01365e65b4ef9881e29ba4541ff7c837',\n",
       " '013778e26384caee7f7ff3c986ab1f40',\n",
       " '0138b5af458b908474f5427e85c8aebc',\n",
       " '0138d1d32348eddc93422e090ba3b169',\n",
       " '013aecfd14b2680cde44af2716882f1f',\n",
       " '013bec1afeb7051913c988f488dfa5f8',\n",
       " '013d84ca20590e901c0e38cc5fcf38c2',\n",
       " '013e19d42416777e69460ae0f260c193',\n",
       " '013e26f81ad4ee2659da3cc035ca5ed0',\n",
       " '013e31eedc1f60c2c5167b1d08870154',\n",
       " '013e823dcd50f73abd73f16c0d96fb17',\n",
       " '013fd281761a7cfd5971b205b7cb221d',\n",
       " '014591d03e466af2d3becbb36d5934ad',\n",
       " '014618667125932127bc13a877ff54c3',\n",
       " '0146e2ff1ad8421ec98ecd0bcb1ddc8b',\n",
       " '014743e144cc0e3e3931b50334162394',\n",
       " '014a5045e3359bfcb0b1157f0a11d561',\n",
       " '014b04095edb65a19a64bd51efbf0b0e',\n",
       " '014b946b33d2fd782f52d6d7c4ba2fb3',\n",
       " '014c7622d54466bf4e3de06c068f3ce1',\n",
       " '014cd82bc70c00df6212e77d9e0a807b',\n",
       " '014d0e852b584a6ef60e8b208ba01650',\n",
       " '014d1a796c831bb2409e33902021c468',\n",
       " '014f6065eba897039b2af780e3320ac0',\n",
       " '014f96c80c1accb029ec3a50a14ddadc',\n",
       " '0151525f7bfb0d8998ab4b58943c3a30',\n",
       " '0152a8297a704d97af37221609390303',\n",
       " '0152e951e4e1c0517a040371ed3cc17e',\n",
       " '01543ff27bdc6f2c61c78154a6ebfc6b',\n",
       " '01555b4ae6b212e04330b43a872899d8',\n",
       " '015576e5bc552d5d26e926c6c8056424',\n",
       " '0155b94db8f34a68fdfbd98a4867594b',\n",
       " '0156d0026443e93267a07cede4205ae1',\n",
       " '0157aca1a3b6966d4251cb0c1a55d130',\n",
       " '015c8b8654428533d012a81ed55254ed',\n",
       " '015e38555f3cef4f896db4dacfe08152',\n",
       " '015e91538366678bd043c1f79a1977af',\n",
       " '015f4d2f39f3cea90b9e4ea24aac0e31',\n",
       " '015f652a574821653af17128729ae868',\n",
       " '015ffaf9c4dd807bbb566c43d016ca9f',\n",
       " '0160aa90a4e6ad1510d5aa48a34fb696',\n",
       " '0160ff212f7026b45544a64c1ae29daa',\n",
       " '01624d9daf7c9026c6c67c31e25fd088',\n",
       " '01627d466979f93331546813e8e554a2',\n",
       " '0162a2c75cec0e3b96f7aba6fcc5b487',\n",
       " '01642ed975dabb80f74eb0928d909fb4',\n",
       " '01650a28faf761b991ed28c14e550106',\n",
       " '0166606aedbab7dcd5ba2e5ac02d9250',\n",
       " '016903d94dfa6806a0acb81eb011a5ca',\n",
       " '016966b1407941a8e9ab630f8b8a5e50',\n",
       " '016974bba6afb21adabd61df69d69592',\n",
       " '016c8e14f3adbd58b9cf01e780449d1b',\n",
       " '016cddfa645d2dc3962498d47ffe623e',\n",
       " '016cf99e4ce172bf7c3ccc50203766bc',\n",
       " '016d61c11a7303c6af07685eeeb152f2',\n",
       " '016dcdf9795bf0331c762da3cacde412',\n",
       " '016f13e8ceb1ecdabb46a19bd126a767',\n",
       " '016f1bc272c32459f6c82217d1e41cfb',\n",
       " '0170088162f058863e2523994a34b46b',\n",
       " '0170c892470744567257a658fd3e9d39',\n",
       " '01711bf24668c047656fef8d8992d7f9',\n",
       " '017122622d1bda25850d679dfc444c8a',\n",
       " '0172ddaa16a1176569f751cff5104a9e',\n",
       " '01736adea2bf385c3af5fcbee7956547',\n",
       " '01738c66e51371c436f038cedb4291ab',\n",
       " '0174e2edc30c1fca0118673b2f739440',\n",
       " '0175cfdc7312323b1c88a5525b91edcf',\n",
       " '0177eb286c368c7ff0081665fc01082c',\n",
       " '0178350e303fc50ac270da78f0a1ee49',\n",
       " '0178f885229457e18350e8487afd138d',\n",
       " '0179701ef9eafa2524fd3bcea644c748',\n",
       " '017db4120507ec8d7c55baecd6d097aa',\n",
       " '017ea2856cf70afe30c4116ecf0266b8',\n",
       " '0180a89efeda2329c011bf95666d03c1',\n",
       " '0181971a23e8a07d0bc06fbd59a32200',\n",
       " '01828059f864403edca48ed44f67c5b4',\n",
       " '01830aa2512ae79ee46e8207e9688d5a',\n",
       " '01840044718239dc1b04d48e473222c4',\n",
       " '01840229c27d3abc4fff4c24527894fd',\n",
       " '01862dab7b8cc45046d0c7ee1935543b',\n",
       " '018a6bd3d23bf7dbd92542fe223dca20',\n",
       " '018b11ba9785d5cb945ec3e903dc9faf',\n",
       " '018b7eaebe625bcbe51e4daa38d93a52',\n",
       " '018ec20bfa0dab4e4e87936ae91c8296',\n",
       " '018f3cb4864c508fbe6549ec9857b251',\n",
       " '018fa6d369d493e8529c5e91874cb219',\n",
       " '018fab40cf829e2b67135a43231aeeaf',\n",
       " '0192335ae97856444c2c7d66a53af78a',\n",
       " '01927ec349ed9f1ad65128066b427c79',\n",
       " '01935603e0f6b1f77bf0a3e5e66dab29',\n",
       " '019387c3d0c2de76aa33e33cd1fe1dc2',\n",
       " '01946ee312b86eae5faf5381a65bbe60',\n",
       " '0194ae12d9222bfd3e7826840ca3b814',\n",
       " '0194d39708547f0261a4be78ca52e267',\n",
       " '01960263a50f9a1ce07579983aa6a2d8',\n",
       " '019750b4a46d9fe9ab725517e2eb58ce',\n",
       " '01979298f437e1b357a6a0bbf8701820',\n",
       " '0197b7831dd885c1db965038347fd70e',\n",
       " '0197caa042d46d8cb69cc54acc133382',\n",
       " '01996de64bd88768970835ad2bfa6512',\n",
       " '0199ef85e90f296564597abbaca88b99',\n",
       " '019c804b39277ba2c47370362e04275b',\n",
       " '019c972edd37397ebb5df482863b8a89',\n",
       " '019d116a61f10eeef5e0d1eb3f721527',\n",
       " '019e40efed83ace0a2ffcf01be8e2edc',\n",
       " '019f109a2b826179cf2e8d96ff860fa8',\n",
       " '019fa575a9d8c9a1a47a6efd1120913e',\n",
       " '01a04a0375e7658e500a4b96727dce91',\n",
       " '01a0d790a33a9cc85160bb40c87362ef',\n",
       " '01a24729970e3512dd849783416ba626',\n",
       " '01a3c3fc7863a6db4cbb3684324ecdad',\n",
       " '01a40f485a36cee06db091bbf58d02dd',\n",
       " '01a45aa3a25f1d1e2a712cfb92e7f941',\n",
       " '01a53d44a303ead36d90375921cc2471',\n",
       " '01aa05f443d7d7bb45c1737f219b1f2d',\n",
       " '01ac77ce2cd3d26e33a6ee81eb9f5042',\n",
       " '01ad57250a38831227c88ff31d410fa3',\n",
       " '01ae7cf675fec03fd8e16b1488fa2a2f',\n",
       " '01b0c9591def520afec2f2a511ac6c97',\n",
       " '01b0d3749ec41eaad4d9a3e37d0ef6f1',\n",
       " '01b1b21987a00b2816da75f630f214f0',\n",
       " '01b1c1fec08d919ebde25cd491f8c0db',\n",
       " '01b45b66b08163ae3f57f30bdf86804e',\n",
       " '01b48a48030a2f9859832e13f2b72f33',\n",
       " '01b5d3039e6400ec1933f3b54c3a7e17',\n",
       " '01b6647f150832bd5b9080b90c5b1694',\n",
       " '01b6f56f90b59c8cc3d830680d18db61',\n",
       " '01b90f7eb28a7383439c41eb61cdbbfd',\n",
       " '01bbf527d03846e03c04d1566726b547',\n",
       " '01bd6a4a4750f3e6e93af0a8b22cf7bc',\n",
       " '01bd94a0de82c68ebea242c033fcc0f7',\n",
       " '01c1a46fd744e39e424432fff1c72a08',\n",
       " '01c1c2c4e80413edd5f1c9e9476cab65',\n",
       " '01c209e6cb79429ff9435209d6bd9a61',\n",
       " '01c315c16c8790a026bab4c37340ef4b',\n",
       " '01c507cbdd600e4e3ce9f4825cff0235',\n",
       " '01c564d8975f2c94753715d50eca2bd9',\n",
       " '01c5bfae9e62d2a88b6f45e4b14d2424',\n",
       " '01c92bc83d8510170d12f18f8ca5538a',\n",
       " '01ce7947ce66d346b5ce44e0e5182a53',\n",
       " '01cf2e4d5bad2e52fc926fec943c4f67',\n",
       " '01d3bcd2cab6df50abd93ad4eb17bb25',\n",
       " '01d3ec17f87e2f0ba4b948ce87fefea6',\n",
       " '01d50ea8bf428a581a22cfedb46537fa',\n",
       " '01d5b6dfd568186690599a71623b516a',\n",
       " '01d964e69f782b6f32fab7a9d8d67da6',\n",
       " '01da40cd426ab78055b592b48af41146',\n",
       " '01dbfe33539f6bc631e415c190b106a6',\n",
       " '01dcfeb64c833ad415011474ed578786',\n",
       " '01dee1d6b8a6bad9e4f118d7d87c6465',\n",
       " '01df57340568e4afba62b14a2d36ab85',\n",
       " '01e092140390080c45e81e58666ae3b4',\n",
       " '01e0ff752d50e05137fe4cb593602b54',\n",
       " '01e1063c870ac66a05c5a277a9e6444f',\n",
       " '01e16a68f21d6737ee10d050b78d51e7',\n",
       " '01e22ca7049e64134e9be0ded51a4bb9',\n",
       " '01e243e05ba6d403d064308d9f1a4770',\n",
       " '01e3c3bd8711e7ba093c9d3a346ec3ec',\n",
       " '01e3d311e368a16da63d1033e0003b65',\n",
       " '01e5015fc56c4c794d3288a371040966',\n",
       " '01e7c9e28e81bff700c134c8a511bd63',\n",
       " '01e83a89ef580564173783ef0801bd4a',\n",
       " '01ea14ff26a3fe2fbfb1f9e730bc6d9e',\n",
       " '01f3b73203ffe5fc04c419cd5acb5510',\n",
       " '01f40baaebbf7e022ed3a2f4ea23ca2a',\n",
       " '01f4eabe3455864d8c68f0d8b51aa9d2',\n",
       " '01f4f49460726cd1c0692a4ddfa822e3',\n",
       " '01f54073151475e5dd0f7e4374c89cd6',\n",
       " '01f97d762cacc406d1771c3f533e571f',\n",
       " '01f9b029912e724af1667c80fe72b583',\n",
       " '01fa5f3167b60edad08ef6b3dd679576',\n",
       " '01fc678b803c535b44fc44eb81202d48',\n",
       " '01fd36b49bf412f2ef3dd75fc3d34356',\n",
       " '01fe1e900a5c06e1d1a5747657e142d8',\n",
       " '020102cb5b2cbde3f639d9ba7e15c9f3',\n",
       " '020200a4fad2fa24e46cc1008dfbf1fb',\n",
       " '020273c5f477fd903889a8909cf4413f',\n",
       " '0202f312a38f2e928cfe22a61f2462c5',\n",
       " '020711969f9bebfd67607e0d946939d9',\n",
       " '020ac13b8e2f792a75e0b5e58d778702',\n",
       " '020ba1bf25f0a9079174e0685423d1b2',\n",
       " '020c0ceadc363e21b7081801e8c9a706',\n",
       " '020dde7a07ed397d8732ca1ac02183dc',\n",
       " '0210715f4011310981d7aba28c060f03',\n",
       " '0210f19a4c9b4f403434ed1490abc5be',\n",
       " '0213a778601e6cdde1e970f04856f1b5',\n",
       " '0213b95438454b5d568716cf4d42e062',\n",
       " '0215f44fdc5954ce730f42b6ea4579c5',\n",
       " '02161ab5cae8fed7a640f0f0b877d7ed',\n",
       " '0216a9ba6139fbe5eee14cd2e299f7c1',\n",
       " '0218556ff8ca6267f347c342430ba420',\n",
       " '021944a6bed1c84533d4dce82608d9f2',\n",
       " '0219756973c7bb705a5b0eff532aecae',\n",
       " '021b5f68bcafab9c52ccc5984549fc7b',\n",
       " '021c04ab0268d2c82ba257e9efc13058',\n",
       " '02207302479976752bc413ea0acbdb36',\n",
       " '02237982541c1132a843f214cbeac555',\n",
       " '0225c027514fa80b285829dba20b718b',\n",
       " '02260a891762cf9f190d0bda429a694a',\n",
       " '0226dc160b0f33d8f66f8d021e615035',\n",
       " '0227e22847342d0eaeb34a5466300068',\n",
       " '0229a4c54f059dea43d7d2efcabd1824',\n",
       " '0229d641a9e5fddb808e56bbbe440f9f',\n",
       " '022b0d3fdda6f635e1045ff3d8b53a2d',\n",
       " '022fb416c5fdfc9694a3c2fa303b28e3',\n",
       " '0231499793520e26fedbdf7e6e0a910e',\n",
       " '0233350460f5cfecc1ae8823a74cf7a1',\n",
       " '0235c4161a52c1496dd47b7bd679fb84',\n",
       " '02369191471e494a8d01fa990e9f7faa',\n",
       " '0238e617847668f86d11b7df6b1dd9d6',\n",
       " '02392562cade063c44fa303f9b5b7ff4',\n",
       " '0239c2a6c8b12eead3c7df5c89d49375',\n",
       " '0239f07425a6b7321beb7aa42f20f5a3',\n",
       " '023f474a00d8232139ff43668e4afb02',\n",
       " '023f8499b75843c7174bdd4a3b9fe65c',\n",
       " '023faacd77b7a583ac3d47706f3f69fc',\n",
       " '0242071feb96c46d4317f6bc8141569f',\n",
       " '02436489e1bb20cfb39e54844c4737d1',\n",
       " '024ac6028ddd99163a21eba2001e6ca8',\n",
       " '024bbcb99f0e4279d0a55650f47ce59c',\n",
       " '024c0b9a707713a6c0d79477c64ccb59',\n",
       " '024d03d3203c2a832460b52eb1936efd',\n",
       " '0250e84376315f13341b57b1c2177cf1',\n",
       " '025365b16b2389a5cc60f89955c7810b',\n",
       " '0253bea92ff53d6304de76df4b935c1e',\n",
       " '025a241a22717c5359dd12446acc6a10',\n",
       " '025b70ef5fb2fb2f45b189da17c8344c',\n",
       " '025d274852aa2ac52314e0b5cdfde2d5',\n",
       " '025e870504313245fcc3268497197849',\n",
       " '026094156fa3e5e178339ef77b91b78b',\n",
       " '02621d68b5c15f3d80ba776090a42ddb',\n",
       " '02632cd83d4ab7678a8436049cb49174',\n",
       " '02647a3dae7e6737861d42e6066eb737',\n",
       " '026610e69fd4e5a59cbb9e683ee28c30',\n",
       " '0266507fa09a5a52a1c4b609af15dd15',\n",
       " '026757591b799607cbaa8810ea567d5d',\n",
       " '02678ecb6c154cb67c27ff3136eb20a2',\n",
       " '02684c48aae087998a4f6b0e521815b9',\n",
       " '026870c0190808c8927a8c3ab78b5597',\n",
       " '02698a7583d7bd6ee73fc6736dbd1dac',\n",
       " '026a0650263dcdf85fac0e3788306576',\n",
       " '026b76dc8a3d3ee1d171b6e2a0acf29e',\n",
       " '026ce7b1a75f42a4871b87003fbea80f',\n",
       " '026d7dff019833e1edbc2eeddd405715',\n",
       " '026f228ee9f856bc6eb331cb482067ce',\n",
       " '0276557ac72a5b27f19b28c5bcc2162b',\n",
       " '027670e0b68576ec5b0cdca3ee58f9f7',\n",
       " '02778dccdb1475905e970f5f8a0edd4d',\n",
       " '02796ef8d7a1074af280b106eb265e5c',\n",
       " '027aaf66c9d7ef0ee51097b94bc6c17b',\n",
       " '027c1f6a754ed6ca5c1d6e813bf3b39e',\n",
       " '027d026fd0f923992c4d6e1edf9ec087',\n",
       " '027fe22748845319610e3c744d0f9d91',\n",
       " '02817a9993953eef3154943c7dcab517',\n",
       " '0281ccc0db48b2e3857bfcadb7db3da0',\n",
       " '02837fbd832d529ca463ba9cdb2bbe7c',\n",
       " '02862efdf8faa305412ea311d06474ca',\n",
       " '0286802753ded5c183553e836c94ce2c',\n",
       " '02895b273e24fd91f0ae317c19f9d531',\n",
       " '028a5b5d419c6aab383ad595b128e2a3',\n",
       " '028cea722bfd5803e83b5bd329c0f79d',\n",
       " '028e4b88d5cf6e23ce84009a3b8dd79c',\n",
       " '029145a28a2261b18c9ad182ce5f2cd2',\n",
       " '0291b77d21a5b03fad850bb5dfbdd9ca',\n",
       " '029455bae04b1af7b1a2e8f384583a7f',\n",
       " '0294dbb9d30cd867bbff884b70a0120a',\n",
       " '02952dc9dface0e1270b6d4f7e46c4af',\n",
       " '0297ea2f5350a183868356f233c9b0b9',\n",
       " '029931f3bdd8dc1bc98120acf5c22d18',\n",
       " '0299746cb9a5fdef5578c3fc2e1585a4',\n",
       " '029a3283fe62985941050f9c3d2859e1',\n",
       " '029b5b572af61cdd8ed3fb5d34e5933a',\n",
       " '029bf1a7b1b1a8c0b87f0ae250a7c81c',\n",
       " '029c7661854b95b4cb16f9cefe40ece8',\n",
       " '029c8a954f496149dd2010821a809a8e',\n",
       " '029e0f138338bab91dcacc550e5269ee',\n",
       " '02a0c0f1e5ca12ce70fd604e9619971c',\n",
       " '02a1b68c123b52937dd18b595096c5d3',\n",
       " '02a374ee1da661cf6b28d6626a8dd24f',\n",
       " '02a44095758360f88d8570590eed3217',\n",
       " '02a5123ddb80274d103112b961544149',\n",
       " '02a7d92d99074edcce981effd61404f4',\n",
       " '02a7e612ac02ebe085a4d43cec37f39e',\n",
       " '02a9931217ae334fd3a07795e27b531f',\n",
       " '02aa700c7599c2904b28b97873db91d4',\n",
       " '02ae61b85343eb1fe690a4b82ba3df50',\n",
       " '02aef62caeb32169ef894da21201ef7f',\n",
       " '02af64ef93689a7451d02698fd7e3bce',\n",
       " '02af6df98a7b83a0af22653335105be8',\n",
       " '02b0202f468f6b0b06994ce56ced62a6',\n",
       " '02b2e3bac1eb250eceaa44160765d9e7',\n",
       " '02b3f0eb51b7e17a1ab4fd7fac71faed',\n",
       " '02b450451f0a4a471587b73bb245055d',\n",
       " '02b4969c343e8596434e89f250161a02',\n",
       " '02b5494f528dec491944bd96d85f5d35',\n",
       " '02b556eda252a26bfec84a76fa36fa8d',\n",
       " '02b5c42f3583dba8f1749a47349c6071',\n",
       " '02b8db60d9540b4eacec0459ff8be2b0',\n",
       " '02b9e89078ac6c96942449756ab75d97',\n",
       " '02bbb0f75f6591313995887b27f5ab06',\n",
       " '02bc13680b4613e01074c46934c870c3',\n",
       " '02bcbd5c6ab6a6d1b38d2da148feeeb3',\n",
       " '02bd48f8ba541b2006327db7a3fa9568',\n",
       " '02bdda7deeb308995a35c962b7afc785',\n",
       " '02be24182705d5c0569e83eb038e12b1',\n",
       " '02be2aaa1274c094f4bc653110d4e5c4',\n",
       " '02be74b304bf3be58dd07183d458b9b9',\n",
       " '02bff16c865beb10e2fbf27b852368cc',\n",
       " '02c57fefe0db6ff6a6824da244f60f86',\n",
       " '02c7a57e36e6a318195039b107f4511a',\n",
       " '02c7e901de822ebe2abe076a580ba6c6',\n",
       " '02cab7ba8bc645792adfc11728075fc2',\n",
       " '02cb7b78fe3e8d0bc12644189dbfdb80',\n",
       " '02ccf890609109819da9e9e5d122e0e3',\n",
       " '02cd2e2cf3210b27fa8d3c1913df6a09',\n",
       " '02ce26e8740e6b4fb17b3fd5ceba4eb1',\n",
       " '02ce3e3249f268388c51d876cd7f6b63',\n",
       " '02cf0821e56e281230f3b3f81ee6505e',\n",
       " '02cf43b63fdcc80d2b75f971c4fb5242',\n",
       " '02d05a51d271e4518bffc43e505ff7b6',\n",
       " '02d2501f6be0d981ba4d9cf1b435fbce',\n",
       " '02d3c159d4a64dcb6300e2ee76de07f0',\n",
       " '02d3dae097a846672790c243d169ea63',\n",
       " '02d5a07ddc318a28d3723bfa0672c3eb',\n",
       " '02d64b86e489c0122db6b36b25cd4667',\n",
       " '02d650e241dc91b0831e4f5bb18e1bb1',\n",
       " '02d83d4b2f3d8d029d2387935fceda19',\n",
       " '02da3a13f30a447a1cab73e6338da65a',\n",
       " '02dbbcc6135d1d0523a63e7b68d5de73',\n",
       " '02dbdf86e7c39152c411fb5f6e31a4e1',\n",
       " '02ddace9937fef74c09500330bf547f9',\n",
       " '02de150a04d723888c333b95dcc73b6d',\n",
       " '02dfa6604ec4f8ca8334f7200788c010',\n",
       " '02e102e45acced1f2b190294d56413b4',\n",
       " '02e4c0a7f224da040e7fd6f9224bdbd2',\n",
       " '02e65002245b5ed883e975c265d315a5',\n",
       " '02e72f283e807dc227aeac5d86b49b7c',\n",
       " '02ec518c9ee981b3a8f1c61784c246d6',\n",
       " '02ee08d31d51d329dbad9ab69a9700d3',\n",
       " '02ee7540001dee311b9e949e8d7524fd',\n",
       " '02efb2f49eebb34a7bf467f31be3dc75',\n",
       " '02f037f3e8f1749cd58a545db3682895',\n",
       " '02f2840c4a6f3040b192b63ed5d01d9b',\n",
       " '02f3bcff1cbc7bc3344924062ddecf29',\n",
       " '02f45851c7316a9b464e18955e508915',\n",
       " '02f660547377afa31595e208749edff5',\n",
       " '02f86655ea7fabac7d316d347ee748d2',\n",
       " '02fad5dc2483e901ececc98923df59fb',\n",
       " '02fb0f5740fa15e939244946d793c62e',\n",
       " '02fb260a7ae1f29c46851a11ca3b166e',\n",
       " '02fc3d14f5ee5aa8d9eb4d98178e6289',\n",
       " '02fd58dde651f5ac32b281366981c3c7',\n",
       " '02fe056580f52ace143f07db351bdab7',\n",
       " '02fe7ed76d37735dd66e44128afe2b19',\n",
       " '02ffea5609e14173a12189a490fe1bc9',\n",
       " '02ffef3f2f31e326bdf3cdf0d06e31a5',\n",
       " '03014e2476228851a797adefce30c1b4',\n",
       " '03040114dabdbfa31bdd4ddb3d6ab470',\n",
       " '030632db73b99c47af649e0850e7657d',\n",
       " '030778c4b7f05f57c05ccd818e5017b1',\n",
       " '030a21bfb438157778faef46fa196203',\n",
       " '030a598be343e26b18fbfb0be932a5b9',\n",
       " '030cc6e355c676e82419ff69992d3e89',\n",
       " '030d44674431462046b913df507e8c34',\n",
       " '030e80f79e6f12684edb99fc2a29ea64',\n",
       " '030ef855cebd8c058e316284840f83ee',\n",
       " '030f18621853fcc356afdc1e413f5d87',\n",
       " '030f1f82d0707e43db9cce5d31b441e5',\n",
       " '030f6032bfc607a0349e4a048661f57b',\n",
       " '030f93dec611b733e589d78e6e4f7b32',\n",
       " '030fe27c7d25ec666be68aba2e975c69',\n",
       " '0310f2e626b205906d2578c1b0e64888',\n",
       " '03128acbdd9a157dc1f9402b0866ce35',\n",
       " '03166ea57b505524b9c1dca6736e89f5',\n",
       " '0318672f5b3c4141bfcc19c8a670e10c',\n",
       " '0318903b07c46e7c0d194ecafd1a65c6',\n",
       " '031b336a401ca37f0a9300bcb4fdc263',\n",
       " '031b72c06cd50fc6d1ee540292ef49a6',\n",
       " '031db1afc79c91772696c5882f32ea25',\n",
       " '031e062a5c997f4ce9288ef5f2d481bc',\n",
       " '031e611139a65ece066bfdd1fea67bcb',\n",
       " '031fb44ff275e25f6605da01343acc4a',\n",
       " '031fee4e314eed5236c92bbb98372d89',\n",
       " '032139120d98991a11b62b63247861d7',\n",
       " '03219a3f317925fb5c9c5490afd0e306',\n",
       " '032273049dbfc9ab31215a66ae0c436c',\n",
       " '03233714b5d8deec55b3d73c7991d500',\n",
       " '0323cf92d9a131fe1725ed58592072ab',\n",
       " '0324d0a23a76ea24583207b94dbf841a',\n",
       " '0325980dee5fe58bc4632410d6a0a643',\n",
       " '03274ae4b11f2cb8f875ab1d086acaa7',\n",
       " '03276aa3d29fa3713ac5ab4bacfa98b8',\n",
       " '0328488634ef8f523b7a80e3334a3753',\n",
       " '032a42416d8c6b0905e7ed0626bf8254',\n",
       " '032aa546ff85039e6d64c32d6f297c16',\n",
       " '032ee32b4c5b6654c69a6f2b031a2a7c',\n",
       " '0330311beb89ed93a27bf86dabd7e2b0',\n",
       " '033208717ab4a1fa59d32e4cedcfa22f',\n",
       " '0332d404e0b1e7e959ed596737409a7d',\n",
       " '03335b85b41dad05067c3a3ab57ee7bc',\n",
       " '0333c59979149ae1da1126224b2b1393',\n",
       " '0335e8ba1cceab3166685b56265f2048',\n",
       " '03366894483941f6591113b04a95cb28',\n",
       " '03384c39066ff9f034da9fa6fe6a6ef7',\n",
       " '033884ce21042f6d17b2376792948087',\n",
       " '03392cb460beed2eb9ec3c304868199d',\n",
       " '03397a2dfe2d8c2e406521e1b52e6eea',\n",
       " '033a65bd177149a8cd8e5096b84662af',\n",
       " '033ad211c6c72ce61e8772ab0680d043',\n",
       " '033c15a00efadaefdaa1cc510f6cb7fc',\n",
       " '033c411d9412ae2253c27e62be862603',\n",
       " '033caf9051ddc2e97a998a1f48cd63d6',\n",
       " '033cd6d1757b8bb61ad5a3168334d1fd',\n",
       " '033d9a4ba2fc35a0258e4965e286733d',\n",
       " '03423c6f393f6c86af98f420dbdb28e3',\n",
       " '0342cd1301c1c7c92b2d676cd47e9baa',\n",
       " '03430934e073d0ca5da07c0e55830c06',\n",
       " '03446d0786ba1b62da3923e6f804baae',\n",
       " '034508dc772a01f31b16dee2fbf03537',\n",
       " '0347e92a1a476c3619e89288f2909161',\n",
       " '0348d136b5a713949b083fe59f694bd1',\n",
       " '034a6223e238b652211a0dfbe8abd53f',\n",
       " '034b0b0ca00813707de557d633c42135',\n",
       " '034c3d107c34ea15e9eccd99a91c8517',\n",
       " '034d3181395f9d07088f1d14f238e913',\n",
       " '034d9ce88e97d274badc03ca6d4003b4',\n",
       " '034de9e44fce014dae4b43d0db7ac698',\n",
       " '034ecb85ce618eff53a0851bedf5463c',\n",
       " '0351721a5f0861ce60cadb6d25c549ab',\n",
       " '0353e68e55f2e934c0a6dc530412b1b3',\n",
       " '0354f50a448f7ae98be0ee10af3bcf1e',\n",
       " '03553f7d514f957464634e134b3c3b4d',\n",
       " '03557026e6031c9e42af49f7f3e3c73e',\n",
       " '035697d42b093bf4faddeac813c50094',\n",
       " '0357458ef634caecc32adc7af29ab6d6',\n",
       " '035adf79bd2f6d7593beb40ce8f2d158',\n",
       " '035b0455c8caf1b0349b7963c9d9c4a4',\n",
       " '035bd415a2a0ee3f9257f30c2942d21b',\n",
       " '035c599a99bd4eaa82a255c163c3e3b3',\n",
       " '035d0789518a14f2bfbe7631946ab0ba',\n",
       " '035e2a73fbbd0cab0de8d1b2899b26a1',\n",
       " '0360fad688e2e3f0a3712e4ca495093a',\n",
       " '03620d2ebb19b9f2edfdf642ef8f19cb',\n",
       " '036224adcd10570d46023fe6957df855',\n",
       " '03627f8ef0095632e2bb698e2cf913cf',\n",
       " '036650fca3af1122ad590e7a938e2453',\n",
       " '0367111bbea4b30c214bc7842898b0a9',\n",
       " '03682af242de4f4e1ef48a8b684c32c7',\n",
       " '0368b73e755ce39dee50ef1085c56130',\n",
       " '036af84ce375be8c5a682bae50e2797c',\n",
       " '036ba04f5db28282cb2685c2d4fc8e43',\n",
       " '036c394664e85ae643e609a2a0efea90',\n",
       " '036e58927aeb856f6f0052e77ba9dc2e',\n",
       " '036fb061568bc30b798f22084b79979e',\n",
       " '03717ee87ac9df14243197fad28eb94a',\n",
       " '0372fe78713c7e6f471246d8cfb0fe45',\n",
       " '0373040cf24936a05c743e0b8cfed06b',\n",
       " '0375bf173122864e299890f97eea769e',\n",
       " '0376c11eea568b461f687004412d929d',\n",
       " '0376d4e73bb9bb06159d288d9296b293',\n",
       " '0377427917dc91bc8fc76607328ce1f9',\n",
       " '03784df8908263f2996577dffe1da52d',\n",
       " '0378b3650302302235a17fb82b775d0b',\n",
       " '037ba6ac097ffc92b6a62187bfef86c6',\n",
       " '037cef4efa7e8a1579221d0ef3fa2c84',\n",
       " '037d4854c89b7fd30183d6a3d3fb6ae5',\n",
       " '037e42bacfb71b65482d48453d229fe2',\n",
       " '037e45ae3d8e1cd172cfac0b47975815',\n",
       " '037e912265d60dc85b341d3fd1b553e5',\n",
       " '037f16814566e11cd0eab96a018a4c23',\n",
       " '037fcc92b57a8d6415f4a3c7b847d83a',\n",
       " '03807c6c317ad71d2d5406a7bd3f1e3e',\n",
       " '038110a33c5483a8950faab18eb6d21f',\n",
       " '03869e72e23c829745d6aed020077011',\n",
       " '03879aa5b2821f755bd097c3bda0b00a',\n",
       " '0389d05f1e5039e500e860da0ef8de37',\n",
       " '038a527f03b81c07587db39e5e04ad85',\n",
       " '038b78c94ea8c387044db227b3c6b6d0',\n",
       " '038bdbacb829a4affe2f763cf3525b07',\n",
       " '038cbb1c7090237322ecc34a3f34f09e',\n",
       " '038dbf62e8e8af7735eac68f4b0a9f00',\n",
       " '038e0c91241b63a4ef3c126ef24a8838',\n",
       " '038fcf2b7397277b332958448540444b',\n",
       " '038ff65b8603c3df25a5da404297b0dd',\n",
       " '03901f4bed9a1b4fc3ab6eef0f5735c8',\n",
       " '0390bf0e31de2ef69720e07f30069aa9',\n",
       " '0390db20b9b7fa6213dfc3e277d428dc',\n",
       " '03914afc09d2b1cde1dda0b7a200ee29',\n",
       " '0391a7894191213dc7ac3eea8286a78c',\n",
       " '0391e2e8fe76ecb0c1466655312ca111',\n",
       " '0392dce6aabc05758964f2bee155fbf6',\n",
       " '039478ae37734fc1a9e41e2213a9a94f',\n",
       " '039611b8861192d782280ce5cb5ae3ab',\n",
       " '0396f56f400b02a14ab16eea9a9cb35f',\n",
       " '039a15aebd544439fe591beb83b7b78a',\n",
       " '039eb5278fe480458ac95226e61b02f6',\n",
       " '03a129d20965332901c6fc07d4f89dbe',\n",
       " '03a33fa025fef3e75e2ba7912fa5ddfc',\n",
       " '03a4862277cd748ef3ae9bc6c1fd440c',\n",
       " '03a6039eb7ab212b6d321ba8826b0220',\n",
       " '03a617cb8e73de2fd6fb1a24b9331cb9',\n",
       " '03a6a6c60c1963dbc55b941a7e7eb85c',\n",
       " '03a6ff6dd0a3a5ce4a66fa4330881a11',\n",
       " '03a8cb382940d22fbe8e0f19b0000f20',\n",
       " '03a96dd1dd9bb9f3ec6a5386b2e02425',\n",
       " '03aaae764e6c0083c04d49a0c6f10ec3',\n",
       " '03ab31d4cb8ad90d0c2bf9bf5504cccf',\n",
       " '03acc32823fcf9047559f7831d1a271e',\n",
       " '03adb4041aa5122690c4a3a9d96fb505',\n",
       " '03b11a50b61bbdfe1f78c9940ee37457',\n",
       " '03b19644e4529946522aa0902ae29f64',\n",
       " '03b4d0bf2ff8f22b12adde5fcbf679fa',\n",
       " '03b56b04291af173a627d0f145901917',\n",
       " '03b78c3425bed0783a195273e77adfbd',\n",
       " '03ba318e819fa87e945605b803cdc827',\n",
       " '03bc686cdb1cfef18145fd85a6814fdf',\n",
       " '03bec9fb6339cc679b184ad8fbb1c164',\n",
       " '03c19ec0f824961c3db856f7a4273b5b',\n",
       " '03c1e63f37bbc5db01b71e0e379c2760',\n",
       " '03c1e9ee7a10324dd6e57b1a6b9e65ab',\n",
       " '03c495919385937403bf75b3f46dd81a',\n",
       " '03c6b8ce32cd13c2a1a42dbe24540ef2',\n",
       " '03c6eca34455c96046c1ef39fb5efccc',\n",
       " '03c747f325e1035ca81e70f40b674685',\n",
       " '03c79a8c0dcf1e1affb6c4708a9ec565',\n",
       " '03c8a1b8f3d8785060af14cef117756a',\n",
       " '03c8a32743941fa14291be462573ca88',\n",
       " '03c9eb0e7ed821a0fbc2b9e2611233ec',\n",
       " '03ca17302d4ff535b664d3c932472893',\n",
       " '03cc0f2b1aadd3af527499221234412d',\n",
       " '03ccb5db738503eaa58065475062e90d',\n",
       " '03cd7af25fd607401d5f304239e3c533',\n",
       " '03d0b41592282db321fb1fa0f8c5c402',\n",
       " '03d21f645d9aa2ae6f93efbbc7193e07',\n",
       " '03d4c62beda9e67ed37919f59e6287f4',\n",
       " '03d5132ee05b30d46c56e123c9b27cce',\n",
       " '03d721ff4ee1d45bd8e23e6ddde6e84e',\n",
       " '03d7e711332df8d6e97d5fd0dc5302a8',\n",
       " '03d87ff5cc2348b4b8c997b81613e7b8',\n",
       " '03d89eac0f8996900a7688d6f6aced88',\n",
       " '03d8fd7039eb21ec47e6ee8a67f1807a',\n",
       " '03db4464768d68ca12f5c82767e94586',\n",
       " '03dd03bddfa1aa99160155008b6eab58',\n",
       " '03de2f116d21cc2be9fd443e835d8cee',\n",
       " '03dfd25d1526cc465f66035a10c6a1e8',\n",
       " '03e237f900959f01c3d088cc39efd10b',\n",
       " '03e2f1ffeaeeff6335e24dcf26173d4a',\n",
       " '03e3308344a5769689770f2676f2f00a',\n",
       " '03e3c615940de4b700df495480aa6d6f',\n",
       " '03e467662ed21201490757c701e6d0c3',\n",
       " '03e4c95a36db7222e5b5bc34e48fd0ef',\n",
       " '03e601d2a6f7a9d4809eb9f53398fe63',\n",
       " '03e802946ee3a0545e7a6c630af61856',\n",
       " '03e81cf35e2ce96ebf1df1f476e1a03f',\n",
       " '03e9d9b42811cbfb249f6fe64a6c7f84',\n",
       " '03ea8f364dafa5cfa5bcee4dbdd7ffba',\n",
       " '03eb3bca4af013e5c537cc2f816070b1',\n",
       " '03ed3358e6c12a20842dd7d057e49968',\n",
       " '03eecf6b6f04425bd68c316746d79a55',\n",
       " '03f1e318960362fd4997a71e33aca1aa',\n",
       " '03f382a9405f95113792b187ca1bfd8f',\n",
       " '03f644ec1db3ae9824b5fe0f9317c0c2',\n",
       " '03f80cf7795185e2b7fd72e2508e94d0',\n",
       " '03f8e25801558eeb97ef3293732c80de',\n",
       " '03fc39ecd85b8fd9d7d340f06d771495',\n",
       " '03fdaa2a29b98b4e7323784b0fe2f4c3',\n",
       " '03ff57d683ed3da3ecb7f64177f61892',\n",
       " '0400e872805d7dd148207006c217655c',\n",
       " '04018e22c6ba09007bd544bf1ba44b40',\n",
       " '0403203dad45345af14c55cb3f0c29ee',\n",
       " '04037e1adba9eefc2aabe5cdd95172cd',\n",
       " '0403aed61c17973609ffe8ae5fdf5e91',\n",
       " '0404d92d904b42c98cbb926ce6c8aa10',\n",
       " '04055f2086ca393dd969a93155fdf67c',\n",
       " '0405922521679490348114fe2e802877',\n",
       " '0406d0d089ae6bae861c78ca039d1130',\n",
       " '04095d0cbee73e668d90049acb899281',\n",
       " '0409635b565ffafaa271b45efd4b6538',\n",
       " '040d3fd369859ae2743c20bfd3743fbb',\n",
       " '040d6634c8b5c136c235e75acfd5aeec',\n",
       " '040d78660ff1e6304fdf6549b04b0c67',\n",
       " '040e3eee407b8ed5309ab851d73ae9e2',\n",
       " '040fa60ade544adc9f7c7b03e7e033cd',\n",
       " '04105ee8ccf3e1711787f750c90c732d',\n",
       " '04108f1cd98b75d4bab325d2af9e12e6',\n",
       " '0411364ea3a07da84978d8bf820e2a4d',\n",
       " '04120406a58b9f9427bbd82885a6d3de',\n",
       " '041274aa514fed18ca7cc168825fa0f9',\n",
       " '0412775c8bef8ec5dc278bd91172a5e0',\n",
       " '04131d299420428f595769daae74b674',\n",
       " '041340ad2ac59cfa34ba27c1b4264470',\n",
       " '0415de8cbe18a5a30211519fee90bf7d',\n",
       " '0418a9ecc1addf2c891680139ad1f553',\n",
       " '0419356c41accb7329ff1dd8860ff494',\n",
       " '041d2215b3cdf532d1f409331b70fbf4',\n",
       " '041d813b6565ee46cef75f67c0eb52dd',\n",
       " '042107b68df24e469dda0bf0509b5458',\n",
       " '04242ffd780b3a620c1a10cd01eb13d9',\n",
       " '04249d7610b231d9b071ec0135ea0ce2',\n",
       " '0428a9c2f4422f45a1a73027db0ad760',\n",
       " '0429f291413f251b1649f4b899767ead',\n",
       " '042c1853cae336debd8b7e3bfda6f103',\n",
       " '042c5f31d346a034e79a7522691cde49',\n",
       " '042ece3b047979b7b9743fde788a1c51',\n",
       " '042f37eee668f8956e8309e14e5d9f04',\n",
       " '04310d2817c2dd45ed7dd0a5fa1fd3ee',\n",
       " '04376d93df544e096cb6922ab72466fd',\n",
       " '0437d8a3ad10afb48f87d85a89b3ba00',\n",
       " '0437f731c83a3348a2eb932580ff4f9e',\n",
       " '043b378ac1aee85c036e56e2779e40c5',\n",
       " '043b74caae025f8feb43e5dd48a9db75',\n",
       " '043c20c355b968583aa64a7209d45bfd',\n",
       " '043c5fa4e0b8bcaebf6f330eefc088b2',\n",
       " '043dd40d629115a794866d336efa2bde',\n",
       " '043f55420037dc9236eea70eb46d916c',\n",
       " '044000d84fd7da1b27f1d8268a23e7cb',\n",
       " '0440f231fdee409d4d4f0bdc22082f17',\n",
       " '04443b0f3d3751f48904fdb812b811da',\n",
       " '04448df96f7f650de78878800b1d183d',\n",
       " '04449a222892827265c3bb46e3a2a75b',\n",
       " '04450eafe24377c311c10d62db7775f2',\n",
       " '044772d78a20f8335ad9cca314bcb380',\n",
       " '044789e9f5b1f805a2a3f4b6f75b2ca7',\n",
       " '044880ddbe3d2a76d02105abe7e30dc8',\n",
       " '044979f14bf43dd2317e4b29ec3cb728',\n",
       " '044a7e648e34e19722b03626a75a6ab3',\n",
       " '044ac8aece02f9f6fa3a21b57fb2c009',\n",
       " '044c402f93bb7971160b26dfd01244ce',\n",
       " '04524f12242c53f9e02155a8e853a1fc',\n",
       " '0452cab47c227bfc5bc1f2ab03db178e',\n",
       " '045628d46f3026bca25f647fe2cda409',\n",
       " '045732667f63ef4f1226dfd90ebbc7b3',\n",
       " '045a8bf29015139e9391693b57934127',\n",
       " '045c7f93e2523f3e060012f5c50cc16a',\n",
       " '045ecd54b8db90eeb166cd460b5f4e0c',\n",
       " '0462292f34798c5b55f019d31026d081',\n",
       " '04627fd2f4f33382b4c7c34f169fdb83',\n",
       " '0462d15b90c404cb3c1830dc0b36bda5',\n",
       " '04639a3308f182ba1da3bea94be16b8b',\n",
       " '04655440672bcc55420e5b3e52d84e9e',\n",
       " '046655f28e120403f49ce616aa202c9f',\n",
       " '046693d487384693091a5350d399a9b7',\n",
       " '0467a05b16153c680d4d4c8818744d9c',\n",
       " '046a59da24dad624fc37cf8799970f28',\n",
       " '046b2093b52c616566dce7049c3d355a',\n",
       " '046fb974eb668aa0f2eb8d9a74119b3f',\n",
       " '04708f033bd2f9b0147a29e7c0cc21bc',\n",
       " '0470fedbfb3fb384189d60a1bba2e7d4',\n",
       " '04730329803ea732c3db023a5be3aad8',\n",
       " '0475695434a6bc27e8e1b958b694c816',\n",
       " '0476df4a5902d7e996c54886d41b1c7e',\n",
       " '04792c7142bcef3f4bf70f25c6bf17b1',\n",
       " '0479baaf62e7fa073096d9c00df28d45',\n",
       " '047bb61fd264bdeb1a4e80dd070cb82f',\n",
       " '047bbd2f6f77fbba23c2297413592e38',\n",
       " '047be212176ed2d183fffd4be454d821',\n",
       " '047d12af4ee9abd69b544d956c9084d6',\n",
       " '047e82f8a2c3eba4c3d71e74eeabbf43',\n",
       " '04814ffd7638d87bcae231d0ee83f036',\n",
       " '0481d0d9d9ece1458aa9ea2cdec2b6e9',\n",
       " '0484fb87f935c7f9e7efe6b05fb82b37',\n",
       " '048718c542777810bd5dcffcc34a4e34',\n",
       " '04872a5ad99ccaea2a3d3a77207c758a',\n",
       " '0487e02ca4887ec391827228db329506',\n",
       " '0487e092131fba799ecdd82cfe91c571',\n",
       " '0488cfd13c004d418bcd970091329288',\n",
       " '048b666ed81bb6b7dac269ede37f8cf7',\n",
       " '048bb41ad9f1be4946f7030a63b91379',\n",
       " '048d759b6d80f193720d1666cd965a0f',\n",
       " '0490f8b5e7359f3bb6a3d0071b8b3604',\n",
       " '049297038be86099e293124678c3b584',\n",
       " '0493f8d94b1177ac37a21bdc1dd9b798',\n",
       " '049756e5eb0a1ac65782e74460cc013a',\n",
       " '04976163d69a75909c05f349350a6ac0',\n",
       " '0498e11f96f53b23efdf2e98dbca521d',\n",
       " '049a847c6e6da40185d4d5b2f46af598',\n",
       " '049ad5965b106da6cef59adc0c19631a',\n",
       " '049c7545b66a2d87f3340d4079219897',\n",
       " '049d7e4a8c0a50d26f6a58274a931cc2',\n",
       " '049d93ed200c58509166b37864823345',\n",
       " '049ebf05f1f069799bc5252c005bde95',\n",
       " '04a1dd21a4c1ff31187d086ff6291e11',\n",
       " '04a376509543342aa448fa18514e5a08',\n",
       " '04a3f944474044607a9cabd7a5e5a87d',\n",
       " '04a49d0b930a5369a6d16c3032a8a2bf',\n",
       " '04a57bc664d20e59960491910fd70fc9',\n",
       " '04a78bd4bf33cebbff93900901c91635',\n",
       " '04aaf1cc5a2d76b27a45b75a2caffcb4',\n",
       " '04ab63a485fb2ee30b6d13124a4d2fc6',\n",
       " '04ababb2f3acba4d4e943443ffd7cda4',\n",
       " '04acceb89f1a8b0f62acc7e8495df311',\n",
       " '04ade7c98c26db835571fe746a9c0ec0',\n",
       " '04ae629dffaff77b7afeece68de83fd0',\n",
       " '04b13832f9fafba274bc056d03055fdd',\n",
       " '04b343c14a16c80821a8fc09aea1e243',\n",
       " '04b37736bcc66d497a05c5abce36490b',\n",
       " '04b491abeab684f969323a1c6faeab26',\n",
       " '04b581da105fe7c557e205aab7996dd0',\n",
       " '04b7046006f1f3592f05e03d1edd62ed',\n",
       " '04b7071f8132dd4162902879f53bbda1',\n",
       " '04b711d3e4c95301a7260618562bd96f',\n",
       " '04b7e000b4749c4416eae06ba8a822a9',\n",
       " '04b8c8a60d0f9b3638a2556d71674ecf',\n",
       " '04bace049dd1d32649ffa58238f9e329',\n",
       " '04bad5e066febc5f8cc7cdf77063da64',\n",
       " '04bc2baba733e5d268e9f6635aefb383',\n",
       " '04bf8581b29a1b7361b9bf94a33a03df',\n",
       " '04bf94524b96d00105ec79b4cf2474bb',\n",
       " '04bfc2e8bed290f099ad701be79fc937',\n",
       " '04bfdd3674ccb4f9cb3afc7f1872638c',\n",
       " '04c012f264989f4e6e2f797a03c5fbc4',\n",
       " '04c2e792d8ca66e0f8f5e7e7bca2ff73',\n",
       " '04c47949fd60f0a89f21d1fb079ed553',\n",
       " '04c50c070db46309236e3a6fc2a470ef',\n",
       " '04c561df528bdc41d2568c8c5fc21165',\n",
       " '04c66774d7a2b5a2261b44a9a0e9a2c5',\n",
       " '04cb56f9c87a80b73a90f981b147b52f',\n",
       " '04cca4ad8345dcd54c5347fdd29fc145',\n",
       " '04ccaf8be176d66142ac375a87f0b10e',\n",
       " '04cd490e236d1fbf022d480ba7a90d67',\n",
       " '04ced4d7b4588b8e4b84b4fb2c084cba',\n",
       " '04d20daa85caaccb2c36eec3df795617',\n",
       " '04d24cc604bdc34905ac1f964f49cffb',\n",
       " '04d29d919f29bc52c621b94281404e79',\n",
       " '04d5d9bc8ab4eeda154fcbf3b1f6639a',\n",
       " '04d6d426b1de7069c79d213d282f76e2',\n",
       " '04d70c11f41e786ecebfa4f56f2c2d4a',\n",
       " '04d927178ef02d5a0125e4da599fbc60',\n",
       " '04d9bec460a04ae775075bd17ef20886',\n",
       " '04da6f06d2d054685c941debde113392',\n",
       " '04dade7a24db741c45409962b0a0636f',\n",
       " '04db4470c5155bcda67c1b35ff13c2cf',\n",
       " '04dbb05626010db16dcb0e644b9623d7',\n",
       " '04dc5cf5cb963b335d920f14f52b79d5',\n",
       " '04dd3fd3181faa6ed5b727df4df80c12',\n",
       " '04de0a24002e54d888f89f4b9059b3a4',\n",
       " '04dfa06a54700739bd65631d18d37b09',\n",
       " '04e2aef1e4ca6bb55e376a39593f0a2b',\n",
       " '04e3a4b1f50876be0f802d95b882d8da',\n",
       " '04e3d09125c8766c4a523cfe8e2f7e1d',\n",
       " '04e510a63bbca22478148f340a4488ca',\n",
       " '04e645194bb96b1baea8e8069d1a9a60',\n",
       " '04e68f0f8c1e43f34c02b837c9f613d7',\n",
       " '04e6f4e4cc8800b89fe41c13775bf236',\n",
       " '04e96945720045521e05379514a6163a',\n",
       " '04e974e3b30c1b7b5dfa418990badf49',\n",
       " '04ec1bcbdb83ad408e01d855f22f2b52',\n",
       " '04ec8785c9eef513ca0f9880354ee677',\n",
       " '04eec83795bf4c358b6d748be150b948',\n",
       " '04ef1bd86511046c9a8524545dc866a9',\n",
       " '04ef5f10cce47ee1e43eb51527249b91',\n",
       " '04efb84ff6addcc9bc1802358e5aedb6',\n",
       " '04f09fd1c5e67dd5d7c2194a7e370318',\n",
       " '04f3a11f2d1f6900e2a9a46279bf0ac0',\n",
       " '04f4b38f72d439dc0db6921213b5cc9f',\n",
       " '04f528d573bcc12cf306240293104a83',\n",
       " '04f624e9ac3104cca5f416b31752aa80',\n",
       " ...]"
      ]
     },
     "execution_count": 58,
     "metadata": {},
     "output_type": "execute_result"
    }
   ],
   "source": [
    "df_train = pd.DataFrame(pd.read_csv('training-set.csv',header=None))\n",
    "df_train.columns = ['FileID','Label']\n",
    "\n",
    "dic = df_train.set_index('FileID').to_dict()\n",
    "\n",
    "dic = dic['Label']\n",
    "\n",
    "li = list(df_train['FileID'])"
   ]
  },
  {
   "cell_type": "markdown",
   "metadata": {},
   "source": [
    "## 讀檔\n",
    "1. 把之前merge好的大csv讀進來\n",
    "2. Unnamed: 0欄位是沒用的，先刪掉\n",
    "3. 增加一個count欄位，方便算比數（應該有更好的寫法）\n",
    "4. 根據FileID group 幾個欄位出來\n",
    "    - 'Cnum':每個FileID有對應到的不同的CustomerID\n",
    "    - 'Pnum':每個FileID有對應到的不同的ProductID\n",
    "    - 'df_guby_t_max':每個FileID出現的最後時間\n",
    "    - 'df_guby_t_min':每個FileID第一次出現的時間\n",
    "    - 'times':每個FileID出現的次數\n",
    "    - 'time_diff'= df_guby_t_max - df_guby_t_min存在多長的時間，以天為單位\n",
    "    - 'tzone1' :檔案在0~6點被開啟的比例\n",
    "    - 'tzone2' :檔案在7~12點被開啟的比例\n",
    "    - 'tzone3' :檔案在13~18點被開啟的比例\n",
    "    - 'tzone4' :檔案在19~0點被開啟的比例\n",
    "    - 'c_cut' 相關系列的，我把 CustomerID 出現的次數做了簡單的分群，第一群是出現10次以內，第二群是11~100，第三群101~1000，第四群1001~10000，第五群10001~100000，第六群大於100000次。'c_cutr' 相關系列是把 'c_cut'/Cnum變成比例，沒有取代'c_cut'而是新建欄位的用意是，我怕第五第六群萬一是重要的feature又被我稀釋掉的話就沒意義了。\n",
    "    - 'c_cut1' :第一群Customer出現的次數\n",
    "    - 'c_cut2' :第二群Customer出現的次數\n",
    "    - 'c_cut3' :第三群Customer出現的次數\n",
    "    - 'c_cut4' :第四群Customer出現的次數\n",
    "    - 'c_cut5' :第五群Customer出現的次數\n",
    "    - 'c_cut6' :第六群Customer出現的次數\n",
    "    - 'c_cut1r' :第一群Customer出現的比例\n",
    "    - 'c_cut2r' :第二群Customer出現的比例\n",
    "    - 'c_cut3r' :第三群Customer出現的比例\n",
    "    - 'c_cut4r' :第四群Customer出現的比例\n",
    "    - 'c_cut5r' :第五群Customer出現的比例\n",
    "    - 'c_cut6r' :第六群Customer出現的比例\n",
    "    - 'freq' :tim_diff / times file 被點擊的頻率\n",
    "5. 用上面建立好的dict把Label併進來\n",
    "6. 把Label != 3的歸類為X(train data);Label == 3 的歸類為y(test data)\n",
    "7. 用train_test_split把X分成訓練跟驗證資料"
   ]
  },
  {
   "cell_type": "code",
   "execution_count": 3,
   "metadata": {},
   "outputs": [
    {
     "name": "stderr",
     "output_type": "stream",
     "text": [
      "/usr/local/lib/python3.6/site-packages/IPython/core/interactiveshell.py:2698: DtypeWarning: Columns (4) have mixed types. Specify dtype option on import or set low_memory=False.\n",
      "  interactivity=interactivity, compiler=compiler, result=result)\n"
     ]
    }
   ],
   "source": [
    "df_log = pd.DataFrame(pd.read_csv('total_log.csv'))"
   ]
  },
  {
   "cell_type": "code",
   "execution_count": 4,
   "metadata": {
    "collapsed": true
   },
   "outputs": [],
   "source": [
    "df_log = df_log.drop(['Unnamed: 0','Label'],axis = 1)"
   ]
  },
  {
   "cell_type": "code",
   "execution_count": 5,
   "metadata": {
    "collapsed": true
   },
   "outputs": [],
   "source": [
    "df_log['count'] = 1\n",
    "\n",
    "df_log['apm'] = pd.to_numeric(df_log['Dtime'].str[11:-6])"
   ]
  },
  {
   "cell_type": "code",
   "execution_count": 6,
   "metadata": {
    "collapsed": true
   },
   "outputs": [],
   "source": [
    "df_cus = df_log.groupby('CustomerID', as_index = False)['count'].count()"
   ]
  },
  {
   "cell_type": "code",
   "execution_count": 16,
   "metadata": {},
   "outputs": [],
   "source": [
    "df_cus2 = df_cus[['CustomerID','count']]"
   ]
  },
  {
   "cell_type": "code",
   "execution_count": 18,
   "metadata": {},
   "outputs": [],
   "source": [
    "df_cus2 = pd.DataFrame(df_cus2)"
   ]
  },
  {
   "cell_type": "code",
   "execution_count": 54,
   "metadata": {},
   "outputs": [],
   "source": [
    "cus_cut1 = list(df_cus2[df_cus2['count'] <= 10]['CustomerID'])\n",
    "cus_cut2 = list(df_cus2[(df_cus2['count'] > 10) & (df_cus2['count'] <= 100)]['CustomerID'])\n",
    "cus_cut3 = list(df_cus2[(df_cus2['count'] > 100) & (df_cus2['count'] <= 1000)]['CustomerID'])\n",
    "cus_cut4 = list(df_cus2[(df_cus2['count'] > 1000) & (df_cus2['count'] <= 10000)]['CustomerID'])\n",
    "#cus_cut5 = list(df_cus2[(df_cus2['count'] > 10000)]['CustomerID'])\n",
    "cus_cut5 = list(df_cus2[(df_cus2['count'] > 10000) & (df_cus2['count'] <= 100000)]['CustomerID'])\n",
    "cus_cut6 = list(df_cus2[(df_cus2['count'] > 100000)]['CustomerID'])"
   ]
  },
  {
   "cell_type": "code",
   "execution_count": 83,
   "metadata": {},
   "outputs": [],
   "source": [
    "c1 = list(df_log[df_log['CustomerID'].isin(cus_cut1)].index.values)\n",
    "c2 = list(df_log[df_log['CustomerID'].isin(cus_cut2)].index.values)\n",
    "c3 = list(df_log[df_log['CustomerID'].isin(cus_cut3)].index.values)\n",
    "c4 = list(df_log[df_log['CustomerID'].isin(cus_cut4)].index.values)\n",
    "c5 = list(df_log[df_log['CustomerID'].isin(cus_cut5)].index.values)\n",
    "c6 = list(df_log[df_log['CustomerID'].isin(cus_cut6)].index.values)"
   ]
  },
  {
   "cell_type": "code",
   "execution_count": 85,
   "metadata": {
    "collapsed": true
   },
   "outputs": [],
   "source": [
    "df_log['c_cut1'] = 0\n",
    "df_log['c_cut2'] = 0\n",
    "df_log['c_cut3'] = 0\n",
    "df_log['c_cut4'] = 0 \n",
    "df_log['c_cut5'] = 0 \n",
    "df_log['c_cut6'] = 0 \n",
    "df_log.loc[c1,'c_cut1'] = 1\n",
    "df_log.loc[c2,'c_cut2'] = 1\n",
    "df_log.loc[c3,'c_cut3'] = 1\n",
    "df_log.loc[c4,'c_cut4'] = 1\n",
    "df_log.loc[c5,'c_cut5'] = 1\n",
    "df_log.loc[c6,'c_cut6'] = 1"
   ]
  },
  {
   "cell_type": "code",
   "execution_count": 87,
   "metadata": {},
   "outputs": [],
   "source": [
    "df_cc = df_log.groupby(['FileID'])['c_cut1','c_cut2','c_cut3','c_cut4','c_cut5','c_cut6'].sum()"
   ]
  },
  {
   "cell_type": "markdown",
   "metadata": {},
   "source": [
    "## TimeZone 處理"
   ]
  },
  {
   "cell_type": "code",
   "execution_count": 93,
   "metadata": {
    "collapsed": true
   },
   "outputs": [],
   "source": [
    "z1 = list(df_log[(df_log['apm']>0) & (df_log['apm']<=6)].index.values)\n",
    "z2 = list(df_log[(df_log['apm']>6) & (df_log['apm']<=12)].index.values)\n",
    "z3 = list(df_log[(df_log['apm']>12) & (df_log['apm']<=18)].index.values)\n",
    "z4 = list(df_log[(df_log['apm']>18) | (df_log['apm']==0)].index.values)"
   ]
  },
  {
   "cell_type": "code",
   "execution_count": 95,
   "metadata": {
    "collapsed": true
   },
   "outputs": [],
   "source": [
    "df_log['tzone1'] = 0\n",
    "df_log['tzone2'] = 0\n",
    "df_log['tzone3'] = 0\n",
    "df_log['tzone4'] = 0 \n",
    "df_log.loc[z1,'tzone1'] = 1\n",
    "df_log.loc[z2,'tzone2'] = 1\n",
    "df_log.loc[z3,'tzone3'] = 1\n",
    "df_log.loc[z4,'tzone4'] = 1"
   ]
  },
  {
   "cell_type": "code",
   "execution_count": 96,
   "metadata": {
    "collapsed": true
   },
   "outputs": [],
   "source": [
    "df_tz = df_log.groupby(['FileID'])['tzone1','tzone2','tzone3','tzone4'].sum()"
   ]
  },
  {
   "cell_type": "markdown",
   "metadata": {},
   "source": [
    "## 最大、最小時間"
   ]
  },
  {
   "cell_type": "code",
   "execution_count": 97,
   "metadata": {
    "collapsed": true
   },
   "outputs": [],
   "source": [
    "df_guby_t_max = df_log.groupby('FileID')['QueryTS'].max()\n",
    "df_guby_t_min = df_log.groupby('FileID')['QueryTS'].min()"
   ]
  },
  {
   "cell_type": "code",
   "execution_count": 11,
   "metadata": {
    "collapsed": true
   },
   "outputs": [],
   "source": [
    "# df_1 = df_log.groupby(['FileID','CustomerID','ProductID'])[['count']].sum()\n",
    "# df_tmin = df_log.groupby(['FileID','CustomerID','ProductID'])[['QueryTS']].first()\n",
    "# df_tmax = df_log.groupby(['FileID','CustomerID','ProductID'])[['QueryTS']].last()\n",
    "# df_mid = df_log.groupby(['FileID','CustomerID','ProductID'])[['QueryTS']].median()"
   ]
  },
  {
   "cell_type": "markdown",
   "metadata": {},
   "source": [
    "## CustomerID、ProductID unique 數量"
   ]
  },
  {
   "cell_type": "code",
   "execution_count": 98,
   "metadata": {
    "collapsed": true
   },
   "outputs": [],
   "source": [
    "df_guby = df_log.groupby('FileID').CustomerID.nunique()\n",
    "df_gubyp = df_log.groupby('FileID').ProductID.nunique()"
   ]
  },
  {
   "cell_type": "markdown",
   "metadata": {},
   "source": [
    "## File 出現的總次數"
   ]
  },
  {
   "cell_type": "code",
   "execution_count": 99,
   "metadata": {
    "collapsed": true
   },
   "outputs": [],
   "source": [
    "df_gubycoun = df_log.groupby('FileID')['count'].sum()"
   ]
  },
  {
   "cell_type": "markdown",
   "metadata": {},
   "source": [
    "## 併 Feature 大表"
   ]
  },
  {
   "cell_type": "code",
   "execution_count": 100,
   "metadata": {
    "collapsed": true
   },
   "outputs": [],
   "source": [
    "total_data = pd.concat([df_guby, df_gubyp, df_guby_t_max, df_guby_t_min, df_gubycoun, df_tz, df_cc], axis=1)\n",
    "total_data.columns = ['Cnum','Pnum','df_guby_t_max','df_guby_t_min','times','tzone1','tzone2','tzone3','tzone4','c_cut1','c_cut2','c_cut3','c_cut4','c_cut5','c_cut6']"
   ]
  },
  {
   "cell_type": "markdown",
   "metadata": {},
   "source": [
    "## 算 File 的存在天數"
   ]
  },
  {
   "cell_type": "code",
   "execution_count": 102,
   "metadata": {
    "collapsed": true
   },
   "outputs": [],
   "source": [
    "total_data['time_diff'] = (total_data['df_guby_t_max'] - total_data['df_guby_t_min'])/(60*60*24)\n",
    "#total_data = total_data.drop(['df_guby_t_max', 'df_guby_t_min'],axis = 1)"
   ]
  },
  {
   "cell_type": "markdown",
   "metadata": {},
   "source": [
    "## 把 tzone 及 c_cut 轉成比例"
   ]
  },
  {
   "cell_type": "code",
   "execution_count": 103,
   "metadata": {
    "collapsed": true
   },
   "outputs": [],
   "source": [
    "total_data['tzone1'] = (total_data['tzone1'] / total_data['times'])*100\n",
    "total_data['tzone2'] = (total_data['tzone2'] / total_data['times'])*100 \n",
    "total_data['tzone3'] = (total_data['tzone3'] / total_data['times'])*100 \n",
    "total_data['tzone4'] = (total_data['tzone4'] / total_data['times'])*100\n",
    "total_data['c_cut1r'] = (total_data['c_cut1'] / total_data['Cnum'])*100\n",
    "total_data['c_cut2r'] = (total_data['c_cut2'] / total_data['Cnum'])*100\n",
    "total_data['c_cut3r'] = (total_data['c_cut3'] / total_data['Cnum'])*100\n",
    "total_data['c_cut4r'] = (total_data['c_cut4'] / total_data['Cnum'])*100\n",
    "total_data['c_cut5r'] = (total_data['c_cut5'] / total_data['Cnum'])*100\n",
    "total_data['c_cut6r'] = (total_data['c_cut6'] / total_data['Cnum'])*100"
   ]
  },
  {
   "cell_type": "markdown",
   "metadata": {
    "collapsed": true
   },
   "source": [
    "## 算 freq \n",
    "- 這邊算頻率的時候我把時間單位換為分，怕天的話有些會太小而被算成0"
   ]
  },
  {
   "cell_type": "code",
   "execution_count": 105,
   "metadata": {
    "collapsed": true
   },
   "outputs": [],
   "source": [
    "total_data['freq'] = (total_data['time_diff'] * 24 * 60) / total_data['times']"
   ]
  },
  {
   "cell_type": "markdown",
   "metadata": {},
   "source": [
    "## 存Feature大表"
   ]
  },
  {
   "cell_type": "code",
   "execution_count": 107,
   "metadata": {},
   "outputs": [
    {
     "name": "stdout",
     "output_type": "stream",
     "text": [
      "<class 'pandas.core.frame.DataFrame'>\n",
      "Index: 81894 entries, 00008c73ee43c15b16c26b26398c1577 to ffff94db3a63e4fd7585ddc10a2ab044\n",
      "Data columns (total 23 columns):\n",
      "Cnum             81894 non-null int64\n",
      "Pnum             81894 non-null int64\n",
      "df_guby_t_max    81894 non-null int64\n",
      "df_guby_t_min    81894 non-null int64\n",
      "times            81894 non-null int64\n",
      "tzone1           81894 non-null float64\n",
      "tzone2           81894 non-null float64\n",
      "tzone3           81894 non-null float64\n",
      "tzone4           81894 non-null float64\n",
      "c_cut1           81894 non-null int64\n",
      "c_cut2           81894 non-null int64\n",
      "c_cut3           81894 non-null int64\n",
      "c_cut4           81894 non-null int64\n",
      "c_cut5           81894 non-null int64\n",
      "c_cut6           81894 non-null int64\n",
      "time_diff        81894 non-null float64\n",
      "c_cut1r          81894 non-null float64\n",
      "c_cut2r          81894 non-null float64\n",
      "c_cut3r          81894 non-null float64\n",
      "c_cut4r          81894 non-null float64\n",
      "c_cut5r          81894 non-null float64\n",
      "c_cut6r          81894 non-null float64\n",
      "freq             81894 non-null float64\n",
      "dtypes: float64(12), int64(11)\n",
      "memory usage: 15.0+ MB\n"
     ]
    }
   ],
   "source": [
    "# 確定一下沒有null值\n",
    "total_data.info()"
   ]
  },
  {
   "cell_type": "code",
   "execution_count": 108,
   "metadata": {
    "collapsed": true
   },
   "outputs": [],
   "source": [
    "total_data.to_csv('feature_180307.csv', sep=',', encoding='utf-8')"
   ]
  },
  {
   "cell_type": "markdown",
   "metadata": {},
   "source": [
    "## 分離 test data"
   ]
  },
  {
   "cell_type": "code",
   "execution_count": null,
   "metadata": {
    "collapsed": true
   },
   "outputs": [],
   "source": [
    "df_test = df_log[~df_log['FileID'].isin(li)]"
   ]
  },
  {
   "cell_type": "code",
   "execution_count": null,
   "metadata": {
    "scrolled": true
   },
   "outputs": [
    {
     "name": "stderr",
     "output_type": "stream",
     "text": [
      "/usr/local/lib/python3.6/site-packages/ipykernel_launcher.py:6: SettingWithCopyWarning: \n",
      "A value is trying to be set on a copy of a slice from a DataFrame\n",
      "\n",
      "See the caveats in the documentation: http://pandas.pydata.org/pandas-docs/stable/indexing.html#indexing-view-versus-copy\n",
      "  \n",
      "/usr/local/lib/python3.6/site-packages/ipykernel_launcher.py:4: SettingWithCopyWarning: \n",
      "A value is trying to be set on a copy of a slice from a DataFrame\n",
      "\n",
      "See the caveats in the documentation: http://pandas.pydata.org/pandas-docs/stable/indexing.html#indexing-view-versus-copy\n",
      "  after removing the cwd from sys.path.\n"
     ]
    }
   ],
   "source": [
    "# total_data['Label'] = 3\n",
    "# for i in range(len(total_data)):\n",
    "#     try:\n",
    "#         total_data['Label'][i] = dic[total_data.index[i]]\n",
    "#     except:\n",
    "#         total_data['Label'][i] = 3"
   ]
  },
  {
   "cell_type": "code",
   "execution_count": 72,
   "metadata": {
    "collapsed": true
   },
   "outputs": [],
   "source": [
    "X = train_data[train_data['Label'] != 3]\n",
    "y = train_data[train_data['Label'] == 3]"
   ]
  },
  {
   "cell_type": "code",
   "execution_count": 76,
   "metadata": {
    "collapsed": true
   },
   "outputs": [],
   "source": [
    "X = X.drop('Label',axis = 1)"
   ]
  },
  {
   "cell_type": "code",
   "execution_count": 82,
   "metadata": {
    "collapsed": true
   },
   "outputs": [],
   "source": [
    "df_train = df_train.set_index('FileID')"
   ]
  },
  {
   "cell_type": "code",
   "execution_count": 85,
   "metadata": {
    "collapsed": true
   },
   "outputs": [],
   "source": [
    "X_train, X_test, y_train, y_test = train_test_split(X, df_train, random_state = 7, test_size = 0.25)"
   ]
  },
  {
   "cell_type": "code",
   "execution_count": null,
   "metadata": {
    "collapsed": true
   },
   "outputs": [],
   "source": [
    "# x = train_data.values #returns a numpy array\n",
    "# min_max_scaler = preprocessing.MinMaxScaler()\n",
    "# x_scaled = min_max_scaler.fit_transform(x)\n",
    "# df = pd.DataFrame(x_scaled)"
   ]
  },
  {
   "cell_type": "markdown",
   "metadata": {},
   "source": [
    "## GBM\n",
    "- 裝XGB的時候碰到了問題，所以先用GBM做了\n",
    "- 做出來的預測是0,1不是機率（有點大的問題）\n",
    "- train的時候沒有做很多的校調，一次就傳上去了（結果只有0.5哈哈哈哈（別打我"
   ]
  },
  {
   "cell_type": "code",
   "execution_count": 94,
   "metadata": {
    "collapsed": true
   },
   "outputs": [],
   "source": [
    "from sklearn.ensemble import GradientBoostingClassifier\n",
    "from sklearn.metrics import accuracy_score"
   ]
  },
  {
   "cell_type": "code",
   "execution_count": 90,
   "metadata": {
    "collapsed": true
   },
   "outputs": [],
   "source": [
    "clf = GradientBoostingClassifier(n_estimators=500,max_depth=10,min_samples_split=5,min_samples_leaf=3)"
   ]
  },
  {
   "cell_type": "code",
   "execution_count": 91,
   "metadata": {},
   "outputs": [
    {
     "name": "stderr",
     "output_type": "stream",
     "text": [
      "/usr/local/lib/python3.6/site-packages/sklearn/utils/validation.py:547: DataConversionWarning: A column-vector y was passed when a 1d array was expected. Please change the shape of y to (n_samples, ), for example using ravel().\n",
      "  y = column_or_1d(y, warn=True)\n"
     ]
    },
    {
     "data": {
      "text/plain": [
       "GradientBoostingClassifier(criterion='friedman_mse', init=None,\n",
       "              learning_rate=0.1, loss='deviance', max_depth=10,\n",
       "              max_features=None, max_leaf_nodes=None,\n",
       "              min_impurity_decrease=0.0, min_impurity_split=None,\n",
       "              min_samples_leaf=3, min_samples_split=5,\n",
       "              min_weight_fraction_leaf=0.0, n_estimators=500,\n",
       "              presort='auto', random_state=None, subsample=1.0, verbose=0,\n",
       "              warm_start=False)"
      ]
     },
     "execution_count": 91,
     "metadata": {},
     "output_type": "execute_result"
    }
   ],
   "source": [
    "clf.fit(X_train,y_train)"
   ]
  },
  {
   "cell_type": "code",
   "execution_count": 92,
   "metadata": {
    "collapsed": true
   },
   "outputs": [],
   "source": [
    "pred_y = clf.predict(X_test)"
   ]
  },
  {
   "cell_type": "code",
   "execution_count": 95,
   "metadata": {},
   "outputs": [
    {
     "name": "stdout",
     "output_type": "stream",
     "text": [
      "Accuracy: 90.99%\n"
     ]
    }
   ],
   "source": [
    "accuracy = accuracy_score(y_test, pred_y )\n",
    "print(\"Accuracy: %.2f%%\" % (accuracy * 100.0))"
   ]
  },
  {
   "cell_type": "code",
   "execution_count": 101,
   "metadata": {
    "collapsed": true
   },
   "outputs": [],
   "source": [
    "y_pred = clf.predict(y)"
   ]
  },
  {
   "cell_type": "code",
   "execution_count": 100,
   "metadata": {
    "collapsed": true
   },
   "outputs": [],
   "source": [
    "y = y.drop('Label',axis = 1)"
   ]
  },
  {
   "cell_type": "code",
   "execution_count": 105,
   "metadata": {
    "collapsed": true
   },
   "outputs": [],
   "source": [
    "y['Probability'] = y_pred"
   ]
  },
  {
   "cell_type": "code",
   "execution_count": 112,
   "metadata": {
    "collapsed": true
   },
   "outputs": [],
   "source": [
    "y_final = y.drop(['Cnum','Pnum','times','time_diff'],axis = 1)"
   ]
  },
  {
   "cell_type": "code",
   "execution_count": 115,
   "metadata": {
    "collapsed": true
   },
   "outputs": [],
   "source": [
    "y_final['FileID'] = y_final.index"
   ]
  },
  {
   "cell_type": "code",
   "execution_count": 119,
   "metadata": {
    "collapsed": true
   },
   "outputs": [],
   "source": [
    "df_y = y_final.reset_index(drop=True)"
   ]
  },
  {
   "cell_type": "code",
   "execution_count": 121,
   "metadata": {
    "collapsed": true
   },
   "outputs": [],
   "source": [
    "df_y = df_y[['FileID', 'Probability']]"
   ]
  },
  {
   "cell_type": "code",
   "execution_count": 123,
   "metadata": {
    "collapsed": true
   },
   "outputs": [],
   "source": [
    "df_y.to_csv('tbrain_v2.csv', sep=',', encoding='utf-8')"
   ]
  },
  {
   "cell_type": "code",
   "execution_count": null,
   "metadata": {
    "collapsed": true
   },
   "outputs": [],
   "source": []
  }
 ],
 "metadata": {
  "kernelspec": {
   "display_name": "Python 3",
   "language": "python",
   "name": "python3"
  },
  "language_info": {
   "codemirror_mode": {
    "name": "ipython",
    "version": 3
   },
   "file_extension": ".py",
   "mimetype": "text/x-python",
   "name": "python",
   "nbconvert_exporter": "python",
   "pygments_lexer": "ipython3",
   "version": "3.6.4"
  }
 },
 "nbformat": 4,
 "nbformat_minor": 2
}
