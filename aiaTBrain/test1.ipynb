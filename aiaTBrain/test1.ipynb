{
 "cells": [
  {
   "cell_type": "code",
   "execution_count": 3,
   "metadata": {
    "collapsed": true
   },
   "outputs": [],
   "source": [
    "import pandas as pd\n",
    "import numpy as np\n",
    "import datetime"
   ]
  },
  {
   "cell_type": "code",
   "execution_count": 2,
   "metadata": {
    "collapsed": true
   },
   "outputs": [],
   "source": [
    "df_train = pd.DataFrame(pd.read_csv('training-set.csv',header=None))\n",
    "df_train.columns = ['FileID','Label']"
   ]
  },
  {
   "cell_type": "code",
   "execution_count": 3,
   "metadata": {
    "collapsed": true
   },
   "outputs": [],
   "source": [
    "log = []\n",
    "for i in range(301,332):\n",
    "    log.append(('query_log/0{}.csv'.format(i)))\n",
    "for i in range(401,431):\n",
    "    log.append(('query_log/0{}.csv'.format(i)))\n",
    "for i in range(501,532):\n",
    "    log.append(('query_log/0{}.csv'.format(i)))"
   ]
  },
  {
   "cell_type": "code",
   "execution_count": 4,
   "metadata": {},
   "outputs": [
    {
     "name": "stdout",
     "output_type": "stream",
     "text": [
      "query_log/0301.csv\n",
      "query_log/0302.csv\n"
     ]
    },
    {
     "name": "stderr",
     "output_type": "stream",
     "text": [
      "/usr/local/lib/python3.6/site-packages/IPython/core/interactiveshell.py:2698: DtypeWarning: Columns (3) have mixed types. Specify dtype option on import or set low_memory=False.\n",
      "  interactivity=interactivity, compiler=compiler, result=result)\n"
     ]
    },
    {
     "name": "stdout",
     "output_type": "stream",
     "text": [
      "query_log/0303.csv\n",
      "query_log/0304.csv\n",
      "query_log/0305.csv\n",
      "query_log/0306.csv\n",
      "query_log/0307.csv\n",
      "query_log/0308.csv\n",
      "query_log/0309.csv\n",
      "query_log/0310.csv\n",
      "query_log/0311.csv\n",
      "query_log/0312.csv\n",
      "query_log/0313.csv\n",
      "query_log/0314.csv\n",
      "query_log/0315.csv\n",
      "query_log/0316.csv\n",
      "query_log/0317.csv\n",
      "query_log/0318.csv\n",
      "query_log/0319.csv\n",
      "query_log/0320.csv\n",
      "query_log/0321.csv\n",
      "query_log/0322.csv\n",
      "query_log/0323.csv\n",
      "query_log/0324.csv\n",
      "query_log/0325.csv\n",
      "query_log/0326.csv\n",
      "query_log/0327.csv\n",
      "query_log/0328.csv\n",
      "query_log/0329.csv\n",
      "query_log/0330.csv\n",
      "query_log/0331.csv\n",
      "query_log/0401.csv\n",
      "query_log/0402.csv\n",
      "query_log/0403.csv\n",
      "query_log/0404.csv\n",
      "query_log/0405.csv\n",
      "query_log/0406.csv\n",
      "query_log/0407.csv\n",
      "query_log/0408.csv\n",
      "query_log/0409.csv\n",
      "query_log/0410.csv\n",
      "query_log/0411.csv\n",
      "query_log/0412.csv\n",
      "query_log/0413.csv\n",
      "query_log/0414.csv\n",
      "query_log/0415.csv\n",
      "query_log/0416.csv\n",
      "query_log/0417.csv\n",
      "query_log/0418.csv\n",
      "query_log/0419.csv\n",
      "query_log/0420.csv\n",
      "query_log/0421.csv\n",
      "query_log/0422.csv\n",
      "query_log/0423.csv\n",
      "query_log/0424.csv\n",
      "query_log/0425.csv\n",
      "query_log/0426.csv\n",
      "query_log/0427.csv\n",
      "query_log/0428.csv\n",
      "query_log/0429.csv\n",
      "query_log/0430.csv\n",
      "query_log/0501.csv\n",
      "query_log/0502.csv\n",
      "query_log/0503.csv\n",
      "query_log/0504.csv\n",
      "query_log/0505.csv\n",
      "query_log/0506.csv\n",
      "query_log/0507.csv\n",
      "query_log/0508.csv\n",
      "query_log/0509.csv\n",
      "query_log/0510.csv\n",
      "query_log/0511.csv\n",
      "query_log/0512.csv\n",
      "query_log/0513.csv\n",
      "query_log/0514.csv\n",
      "query_log/0515.csv\n",
      "query_log/0516.csv\n",
      "query_log/0517.csv\n",
      "query_log/0518.csv\n",
      "query_log/0519.csv\n",
      "query_log/0520.csv\n",
      "query_log/0521.csv\n",
      "query_log/0522.csv\n",
      "query_log/0523.csv\n",
      "query_log/0524.csv\n",
      "query_log/0525.csv\n",
      "query_log/0526.csv\n",
      "query_log/0527.csv\n",
      "query_log/0528.csv\n",
      "query_log/0529.csv\n",
      "query_log/0530.csv\n",
      "query_log/0531.csv\n"
     ]
    }
   ],
   "source": [
    "df_log = pd.DataFrame()\n",
    "for i in range(len(log)):\n",
    "    print(log[i])\n",
    "    df_log = df_log.append(pd.DataFrame(pd.read_csv(log[i],header=None)))\n",
    "df_log.columns = ['FileID', 'CustomerID', 'QueryTS', 'ProductID']\n",
    "df_log = df_log.reset_index(drop=True)"
   ]
  },
  {
   "cell_type": "code",
   "execution_count": 5,
   "metadata": {
    "collapsed": true
   },
   "outputs": [],
   "source": [
    "df_log['Dtime'] = pd.to_datetime(df_log['QueryTS'], unit='s')\n",
    "df_log['Label'] = 3"
   ]
  },
  {
   "cell_type": "code",
   "execution_count": 6,
   "metadata": {},
   "outputs": [
    {
     "data": {
      "text/plain": [
       "81894"
      ]
     },
     "execution_count": 6,
     "metadata": {},
     "output_type": "execute_result"
    }
   ],
   "source": [
    "la = set(pd.unique(df_log['FileID']))\n",
    "len(la)"
   ]
  },
  {
   "cell_type": "code",
   "execution_count": 7,
   "metadata": {},
   "outputs": [
    {
     "data": {
      "text/plain": [
       "52518"
      ]
     },
     "execution_count": 7,
     "metadata": {},
     "output_type": "execute_result"
    }
   ],
   "source": [
    "tr = set(pd.unique(df_train['FileID']))\n",
    "len(tr)"
   ]
  },
  {
   "cell_type": "code",
   "execution_count": 9,
   "metadata": {
    "collapsed": true
   },
   "outputs": [],
   "source": [
    "dic = df_train.set_index('FileID').to_dict()\n",
    "\n",
    "dic = dic['Label']"
   ]
  },
  {
   "cell_type": "code",
   "execution_count": null,
   "metadata": {},
   "outputs": [
    {
     "name": "stderr",
     "output_type": "stream",
     "text": [
      "/usr/local/lib/python3.6/site-packages/ipykernel_launcher.py:3: SettingWithCopyWarning: \n",
      "A value is trying to be set on a copy of a slice from a DataFrame\n",
      "\n",
      "See the caveats in the documentation: http://pandas.pydata.org/pandas-docs/stable/indexing.html#indexing-view-versus-copy\n",
      "  This is separate from the ipykernel package so we can avoid doing imports until\n"
     ]
    }
   ],
   "source": [
    "for i in range(len(df_log)):\n",
    "    try:\n",
    "        df_log['Label'][i] = dic[df_log['FileID'][i]]\n",
    "    except:\n",
    "        df_log['Label'][i] = 3"
   ]
  },
  {
   "cell_type": "code",
   "execution_count": 5,
   "metadata": {},
   "outputs": [],
   "source": [
    "b = datetime.datetime.fromtimestamp(\n",
    "        int(\"1488326462\")\n",
    "    ).strftime('%Y-%m-%d %H:%M:%S')"
   ]
  },
  {
   "cell_type": "code",
   "execution_count": 9,
   "metadata": {},
   "outputs": [
    {
     "ename": "TypeError",
     "evalue": "unsupported operand type(s) for -: 'str' and 'str'",
     "output_type": "error",
     "traceback": [
      "\u001b[0;31m---------------------------------------------------------------------------\u001b[0m",
      "\u001b[0;31mTypeError\u001b[0m                                 Traceback (most recent call last)",
      "\u001b[0;32m<ipython-input-9-291b61765fe5>\u001b[0m in \u001b[0;36m<module>\u001b[0;34m()\u001b[0m\n\u001b[0;32m----> 1\u001b[0;31m \u001b[0mb\u001b[0m \u001b[0;34m-\u001b[0m \u001b[0ma\u001b[0m\u001b[0;34m\u001b[0m\u001b[0m\n\u001b[0m",
      "\u001b[0;31mTypeError\u001b[0m: unsupported operand type(s) for -: 'str' and 'str'"
     ]
    }
   ],
   "source": [
    "b - a"
   ]
  },
  {
   "cell_type": "code",
   "execution_count": null,
   "metadata": {
    "collapsed": true
   },
   "outputs": [],
   "source": []
  },
  {
   "cell_type": "code",
   "execution_count": null,
   "metadata": {
    "collapsed": true
   },
   "outputs": [],
   "source": []
  },
  {
   "cell_type": "code",
   "execution_count": null,
   "metadata": {
    "collapsed": true
   },
   "outputs": [],
   "source": []
  },
  {
   "cell_type": "code",
   "execution_count": null,
   "metadata": {
    "collapsed": true
   },
   "outputs": [],
   "source": []
  },
  {
   "cell_type": "code",
   "execution_count": 8,
   "metadata": {
    "collapsed": true
   },
   "outputs": [],
   "source": [
    "df_log.to_csv('total_log.csv', sep=',', encoding='utf-8')"
   ]
  },
  {
   "cell_type": "code",
   "execution_count": 12,
   "metadata": {
    "collapsed": true
   },
   "outputs": [],
   "source": [
    "result = pd.merge(df_train, df_log, how = 'inner', on = ['FileID'])"
   ]
  },
  {
   "cell_type": "code",
   "execution_count": 15,
   "metadata": {},
   "outputs": [
    {
     "data": {
      "text/plain": [
       "52518"
      ]
     },
     "execution_count": 15,
     "metadata": {},
     "output_type": "execute_result"
    }
   ],
   "source": [
    "len(set(pd.unique(result['FileID'])))"
   ]
  },
  {
   "cell_type": "code",
   "execution_count": null,
   "metadata": {
    "collapsed": true
   },
   "outputs": [],
   "source": []
  }
 ],
 "metadata": {
  "kernelspec": {
   "display_name": "Python 3",
   "language": "python",
   "name": "python3"
  },
  "language_info": {
   "codemirror_mode": {
    "name": "ipython",
    "version": 3
   },
   "file_extension": ".py",
   "mimetype": "text/x-python",
   "name": "python",
   "nbconvert_exporter": "python",
   "pygments_lexer": "ipython3",
   "version": "3.6.2"
  }
 },
 "nbformat": 4,
 "nbformat_minor": 2
}
