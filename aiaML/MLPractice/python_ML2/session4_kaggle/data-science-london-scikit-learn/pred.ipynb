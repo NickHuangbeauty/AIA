{
 "cells": [
  {
   "cell_type": "code",
   "execution_count": 246,
   "metadata": {},
   "outputs": [],
   "source": [
    "import pandas as pd\n",
    "import numpy as np\n",
    "import matplotlib.pyplot as plt\n",
    "from matplotlib.pylab import rcParams\n",
    "from sklearn.decomposition import PCA\n",
    "from sklearn.linear_model import LogisticRegression\n",
    "from sklearn import preprocessing\n",
    "from xgboost import XGBClassifier\n",
    "from sklearn.model_selection import train_test_split\n",
    "from sklearn.metrics import accuracy_score"
   ]
  },
  {
   "cell_type": "code",
   "execution_count": 247,
   "metadata": {},
   "outputs": [],
   "source": [
    "train_data = pd.DataFrame(pd.read_csv(\"train.csv\",header=None))\n",
    "\n",
    "train_labels = pd.DataFrame(pd.read_csv(\"trainLabels.csv\",header=None))\n",
    "\n",
    "test_data = pd.DataFrame(pd.read_csv(\"test.csv\",header=None))"
   ]
  },
  {
   "cell_type": "code",
   "execution_count": 147,
   "metadata": {},
   "outputs": [
    {
     "data": {
      "text/html": [
       "<div>\n",
       "<table border=\"1\" class=\"dataframe\">\n",
       "  <thead>\n",
       "    <tr style=\"text-align: right;\">\n",
       "      <th></th>\n",
       "      <th>0</th>\n",
       "      <th>1</th>\n",
       "      <th>2</th>\n",
       "      <th>3</th>\n",
       "      <th>4</th>\n",
       "      <th>5</th>\n",
       "      <th>6</th>\n",
       "      <th>7</th>\n",
       "      <th>8</th>\n",
       "      <th>9</th>\n",
       "      <th>...</th>\n",
       "      <th>30</th>\n",
       "      <th>31</th>\n",
       "      <th>32</th>\n",
       "      <th>33</th>\n",
       "      <th>34</th>\n",
       "      <th>35</th>\n",
       "      <th>36</th>\n",
       "      <th>37</th>\n",
       "      <th>38</th>\n",
       "      <th>39</th>\n",
       "    </tr>\n",
       "  </thead>\n",
       "  <tbody>\n",
       "  </tbody>\n",
       "</table>\n",
       "<p>0 rows × 40 columns</p>\n",
       "</div>"
      ],
      "text/plain": [
       "Empty DataFrame\n",
       "Columns: [0, 1, 2, 3, 4, 5, 6, 7, 8, 9, 10, 11, 12, 13, 14, 15, 16, 17, 18, 19, 20, 21, 22, 23, 24, 25, 26, 27, 28, 29, 30, 31, 32, 33, 34, 35, 36, 37, 38, 39]\n",
       "Index: []\n",
       "\n",
       "[0 rows x 40 columns]"
      ]
     },
     "execution_count": 147,
     "metadata": {},
     "output_type": "execute_result"
    }
   ],
   "source": [
    "train_data[train_data.duplicated()]"
   ]
  },
  {
   "cell_type": "code",
   "execution_count": 148,
   "metadata": {},
   "outputs": [
    {
     "name": "stdout",
     "output_type": "stream",
     "text": [
      "<class 'pandas.core.frame.DataFrame'>\n",
      "RangeIndex: 1000 entries, 0 to 999\n",
      "Data columns (total 40 columns):\n",
      "0     1000 non-null float64\n",
      "1     1000 non-null float64\n",
      "2     1000 non-null float64\n",
      "3     1000 non-null float64\n",
      "4     1000 non-null float64\n",
      "5     1000 non-null float64\n",
      "6     1000 non-null float64\n",
      "7     1000 non-null float64\n",
      "8     1000 non-null float64\n",
      "9     1000 non-null float64\n",
      "10    1000 non-null float64\n",
      "11    1000 non-null float64\n",
      "12    1000 non-null float64\n",
      "13    1000 non-null float64\n",
      "14    1000 non-null float64\n",
      "15    1000 non-null float64\n",
      "16    1000 non-null float64\n",
      "17    1000 non-null float64\n",
      "18    1000 non-null float64\n",
      "19    1000 non-null float64\n",
      "20    1000 non-null float64\n",
      "21    1000 non-null float64\n",
      "22    1000 non-null float64\n",
      "23    1000 non-null float64\n",
      "24    1000 non-null float64\n",
      "25    1000 non-null float64\n",
      "26    1000 non-null float64\n",
      "27    1000 non-null float64\n",
      "28    1000 non-null float64\n",
      "29    1000 non-null float64\n",
      "30    1000 non-null float64\n",
      "31    1000 non-null float64\n",
      "32    1000 non-null float64\n",
      "33    1000 non-null float64\n",
      "34    1000 non-null float64\n",
      "35    1000 non-null float64\n",
      "36    1000 non-null float64\n",
      "37    1000 non-null float64\n",
      "38    1000 non-null float64\n",
      "39    1000 non-null float64\n",
      "dtypes: float64(40)\n",
      "memory usage: 312.6 KB\n"
     ]
    }
   ],
   "source": [
    "train_data.info()"
   ]
  },
  {
   "cell_type": "code",
   "execution_count": 149,
   "metadata": {},
   "outputs": [
    {
     "data": {
      "image/png": "[encoded data removed]",
      "text/plain": [
       "<matplotlib.figure.Figure at 0x7f64826193c8>"
      ]
     },
     "metadata": {},
     "output_type": "display_data"
    }
   ],
   "source": [
    "pca = PCA().fit(train_data)\n",
    "plt.plot(np.cumsum(pca.explained_variance_ratio_))\n",
    "plt.xlabel('number of components')\n",
    "plt.ylabel('cumulative explained variance');"
   ]
  },
  {
   "cell_type": "code",
   "execution_count": 150,
   "metadata": {},
   "outputs": [
    {
     "name": "stdout",
     "output_type": "stream",
     "text": [
      "490 labels = 0\n",
      "510 labels = 1\n"
     ]
    }
   ],
   "source": [
    "print(\"%s labels = 0\" %(train_labels[train_labels[0] == 0].count()[0]))\n",
    "print('%s labels = 1' %(train_labels[train_labels[0] == 1].count()[0]))"
   ]
  },
  {
   "cell_type": "code",
   "execution_count": 258,
   "metadata": {},
   "outputs": [],
   "source": [
    "X = preprocessing.scale(train_data, axis=0)\n",
    "\n",
    "test_data = preprocessing.scale(test_data, axis=0)\n",
    "\n",
    "X_train, X_test, y_train, y_test = train_test_split(X, train_labels, random_state = 7, test_size = 0.25)"
   ]
  },
  {
   "cell_type": "code",
   "execution_count": 260,
   "metadata": {},
   "outputs": [
    {
     "data": {
      "text/plain": [
       "(1000, 40)"
      ]
     },
     "execution_count": 260,
     "metadata": {},
     "output_type": "execute_result"
    }
   ],
   "source": [
    "X.shape"
   ]
  },
  {
   "cell_type": "markdown",
   "metadata": {},
   "source": [
    "## LogisticRegression"
   ]
  },
  {
   "cell_type": "code",
   "execution_count": 127,
   "metadata": {},
   "outputs": [],
   "source": [
    "clf = LogisticRegression(solver='liblinear',max_iter=100, random_state=42)"
   ]
  },
  {
   "cell_type": "code",
   "execution_count": 128,
   "metadata": {},
   "outputs": [
    {
     "name": "stderr",
     "output_type": "stream",
     "text": [
      "/opt/conda/lib/python3.6/site-packages/sklearn/utils/validation.py:578: DataConversionWarning: A column-vector y was passed when a 1d array was expected. Please change the shape of y to (n_samples, ), for example using ravel().\n",
      "  y = column_or_1d(y, warn=True)\n"
     ]
    },
    {
     "data": {
      "text/plain": [
       "LogisticRegression(C=1.0, class_weight=None, dual=False, fit_intercept=True,\n",
       "          intercept_scaling=1, max_iter=100, multi_class='ovr', n_jobs=1,\n",
       "          penalty='l2', random_state=42, solver='liblinear', tol=0.0001,\n",
       "          verbose=0, warm_start=False)"
      ]
     },
     "execution_count": 128,
     "metadata": {},
     "output_type": "execute_result"
    }
   ],
   "source": [
    "clf.fit(X,train_labels)"
   ]
  },
  {
   "cell_type": "code",
   "execution_count": 129,
   "metadata": {},
   "outputs": [],
   "source": [
    "pred_y = pd.DataFrame(clf.predict(test_data))"
   ]
  },
  {
   "cell_type": "code",
   "execution_count": 134,
   "metadata": {},
   "outputs": [],
   "source": [
    "pred_y.columns = ['Solution']\n",
    "\n",
    "pred_y['Id'] = 1\n",
    "\n",
    "for i in range(len(pred_y)):\n",
    "    pred_y['Id'][i] = i+1\n",
    "\n",
    "pred_y = pred_y[['Id','Solution']]\n",
    "\n",
    "pred_y.to_csv('pred.csv', sep=',',index_label='Id',index=False)"
   ]
  },
  {
   "cell_type": "markdown",
   "metadata": {},
   "source": [
    "## XGB"
   ]
  },
  {
   "cell_type": "code",
   "execution_count": 226,
   "metadata": {},
   "outputs": [],
   "source": [
    "pca = PCA(20)\n",
    "X = pca.fit_transform(X)"
   ]
  },
  {
   "cell_type": "code",
   "execution_count": 227,
   "metadata": {},
   "outputs": [],
   "source": [
    "X_train, X_test, y_train, y_test = train_test_split(X, train_labels, random_state = 7, test_size = 0.25)"
   ]
  },
  {
   "cell_type": "code",
   "execution_count": 228,
   "metadata": {},
   "outputs": [
    {
     "name": "stdout",
     "output_type": "stream",
     "text": [
      "[0]\tvalidation_0-auc:0.765399\n",
      "Will train until validation_0-auc hasn't improved in 10 rounds.\n",
      "[1]\tvalidation_0-auc:0.7774\n",
      "[2]\tvalidation_0-auc:0.80823\n",
      "[3]\tvalidation_0-auc:0.808036\n",
      "[4]\tvalidation_0-auc:0.815347\n",
      "[5]\tvalidation_0-auc:0.810203\n",
      "[6]\tvalidation_0-auc:0.818517\n",
      "[7]\tvalidation_0-auc:0.817999\n",
      "[8]\tvalidation_0-auc:0.819067\n",
      "[9]\tvalidation_0-auc:0.821623\n",
      "[10]\tvalidation_0-auc:0.828157\n",
      "[11]\tvalidation_0-auc:0.825893\n",
      "[12]\tvalidation_0-auc:0.824664\n",
      "[13]\tvalidation_0-auc:0.827349\n",
      "[14]\tvalidation_0-auc:0.82696\n",
      "[15]\tvalidation_0-auc:0.829225\n",
      "[16]\tvalidation_0-auc:0.830648\n",
      "[17]\tvalidation_0-auc:0.830325\n",
      "[18]\tvalidation_0-auc:0.83466\n",
      "[19]\tvalidation_0-auc:0.836245\n",
      "[20]\tvalidation_0-auc:0.837021\n",
      "[21]\tvalidation_0-auc:0.837992\n",
      "[22]\tvalidation_0-auc:0.839739\n",
      "[23]\tvalidation_0-auc:0.841615\n",
      "[24]\tvalidation_0-auc:0.841486\n",
      "[25]\tvalidation_0-auc:0.839997\n",
      "[26]\tvalidation_0-auc:0.839545\n",
      "[27]\tvalidation_0-auc:0.842909\n",
      "[28]\tvalidation_0-auc:0.844526\n",
      "[29]\tvalidation_0-auc:0.845432\n",
      "[30]\tvalidation_0-auc:0.846273\n",
      "[31]\tvalidation_0-auc:0.846726\n",
      "[32]\tvalidation_0-auc:0.847955\n",
      "[33]\tvalidation_0-auc:0.848344\n",
      "[34]\tvalidation_0-auc:0.848408\n",
      "[35]\tvalidation_0-auc:0.850285\n",
      "[36]\tvalidation_0-auc:0.84912\n",
      "[37]\tvalidation_0-auc:0.849444\n",
      "[38]\tvalidation_0-auc:0.850608\n",
      "[39]\tvalidation_0-auc:0.850996\n",
      "[40]\tvalidation_0-auc:0.851255\n",
      "[41]\tvalidation_0-auc:0.850479\n",
      "[42]\tvalidation_0-auc:0.853067\n",
      "[43]\tvalidation_0-auc:0.852937\n",
      "[44]\tvalidation_0-auc:0.853196\n",
      "[45]\tvalidation_0-auc:0.853973\n",
      "[46]\tvalidation_0-auc:0.854943\n",
      "[47]\tvalidation_0-auc:0.853067\n",
      "[48]\tvalidation_0-auc:0.853584\n",
      "[49]\tvalidation_0-auc:0.855849\n",
      "[50]\tvalidation_0-auc:0.856302\n",
      "[51]\tvalidation_0-auc:0.856561\n",
      "[52]\tvalidation_0-auc:0.857725\n",
      "[53]\tvalidation_0-auc:0.857337\n",
      "[54]\tvalidation_0-auc:0.857402\n",
      "[55]\tvalidation_0-auc:0.859666\n",
      "[56]\tvalidation_0-auc:0.860831\n",
      "[57]\tvalidation_0-auc:0.859601\n",
      "[58]\tvalidation_0-auc:0.859407\n",
      "[59]\tvalidation_0-auc:0.860637\n",
      "[60]\tvalidation_0-auc:0.85999\n",
      "[61]\tvalidation_0-auc:0.862772\n",
      "[62]\tvalidation_0-auc:0.862254\n",
      "[63]\tvalidation_0-auc:0.861672\n",
      "[64]\tvalidation_0-auc:0.861801\n",
      "[65]\tvalidation_0-auc:0.86096\n",
      "[66]\tvalidation_0-auc:0.861348\n",
      "[67]\tvalidation_0-auc:0.862707\n",
      "[68]\tvalidation_0-auc:0.863225\n",
      "[69]\tvalidation_0-auc:0.862642\n",
      "[70]\tvalidation_0-auc:0.862707\n",
      "[71]\tvalidation_0-auc:0.863419\n",
      "[72]\tvalidation_0-auc:0.864001\n",
      "[73]\tvalidation_0-auc:0.865166\n",
      "[74]\tvalidation_0-auc:0.865295\n",
      "[75]\tvalidation_0-auc:0.865489\n",
      "[76]\tvalidation_0-auc:0.866977\n",
      "[77]\tvalidation_0-auc:0.865748\n",
      "[78]\tvalidation_0-auc:0.867107\n",
      "[79]\tvalidation_0-auc:0.867689\n",
      "[80]\tvalidation_0-auc:0.868336\n",
      "[81]\tvalidation_0-auc:0.869824\n",
      "[82]\tvalidation_0-auc:0.870083\n",
      "[83]\tvalidation_0-auc:0.8706\n"
     ]
    },
    {
     "name": "stderr",
     "output_type": "stream",
     "text": [
      "/opt/conda/lib/python3.6/site-packages/sklearn/preprocessing/label.py:95: DataConversionWarning: A column-vector y was passed when a 1d array was expected. Please change the shape of y to (n_samples, ), for example using ravel().\n",
      "  y = column_or_1d(y, warn=True)\n",
      "/opt/conda/lib/python3.6/site-packages/sklearn/preprocessing/label.py:128: DataConversionWarning: A column-vector y was passed when a 1d array was expected. Please change the shape of y to (n_samples, ), for example using ravel().\n",
      "  y = column_or_1d(y, warn=True)\n"
     ]
    },
    {
     "name": "stdout",
     "output_type": "stream",
     "text": [
      "[84]\tvalidation_0-auc:0.869695\n",
      "[85]\tvalidation_0-auc:0.869759\n",
      "[86]\tvalidation_0-auc:0.869436\n",
      "[87]\tvalidation_0-auc:0.869889\n",
      "[88]\tvalidation_0-auc:0.868724\n",
      "[89]\tvalidation_0-auc:0.868854\n",
      "[90]\tvalidation_0-auc:0.869824\n",
      "[91]\tvalidation_0-auc:0.870471\n",
      "[92]\tvalidation_0-auc:0.869501\n",
      "[93]\tvalidation_0-auc:0.868854\n",
      "Stopping. Best iteration:\n",
      "[83]\tvalidation_0-auc:0.8706\n",
      "\n"
     ]
    },
    {
     "data": {
      "text/plain": [
       "XGBClassifier(base_score=0.5, booster='gbtree', colsample_bylevel=1,\n",
       "       colsample_bytree=1, gamma=0, learning_rate=0.2, max_delta_step=0,\n",
       "       max_depth=3, min_child_weight=1, missing=None, n_estimators=1000,\n",
       "       n_jobs=1, nthread=None, objective='binary:logistic', random_state=0,\n",
       "       reg_alpha=0, reg_lambda=1, scale_pos_weight=1, seed=None,\n",
       "       silent=True, subsample=1)"
      ]
     },
     "execution_count": 228,
     "metadata": {},
     "output_type": "execute_result"
    }
   ],
   "source": [
    "eval_set =  [(X_test, y_test)]\n",
    "model = XGBClassifier(n_estimators=1000, learning_rate=0.2)\n",
    "model.fit(X_train, y_train, early_stopping_rounds=10, eval_metric=\"auc\",\n",
    "          eval_set=eval_set, verbose=True)"
   ]
  },
  {
   "cell_type": "code",
   "execution_count": 229,
   "metadata": {},
   "outputs": [],
   "source": [
    "y_pred = model.predict(X_test)"
   ]
  },
  {
   "cell_type": "code",
   "execution_count": 230,
   "metadata": {},
   "outputs": [
    {
     "name": "stdout",
     "output_type": "stream",
     "text": [
      "Accuracy: 79.20%\n"
     ]
    }
   ],
   "source": [
    "accuracy = accuracy_score(y_test, y_pred )\n",
    "print(\"Accuracy: %.2f%%\" % (accuracy * 100.0))"
   ]
  },
  {
   "cell_type": "code",
   "execution_count": 231,
   "metadata": {},
   "outputs": [],
   "source": [
    "test_data = pca.fit_transform(test_data)"
   ]
  },
  {
   "cell_type": "code",
   "execution_count": 232,
   "metadata": {},
   "outputs": [],
   "source": [
    "pred_y = pd.DataFrame(model.predict(test_data))"
   ]
  },
  {
   "cell_type": "code",
   "execution_count": 233,
   "metadata": {},
   "outputs": [],
   "source": [
    "pred_y.columns = ['Solution']\n",
    "\n",
    "pred_y['Id'] = 1\n",
    "\n",
    "for i in range(len(pred_y)):\n",
    "    pred_y['Id'][i] = i+1\n",
    "\n",
    "pred_y = pred_y[['Id','Solution']]\n",
    "\n",
    "pred_y.to_csv('pred.csv', sep=',',index_label='Id',index=False)"
   ]
  },
  {
   "cell_type": "markdown",
   "metadata": {},
   "source": [
    "## GBM"
   ]
  },
  {
   "cell_type": "code",
   "execution_count": 270,
   "metadata": {},
   "outputs": [],
   "source": [
    "from sklearn.ensemble import GradientBoostingClassifier"
   ]
  },
  {
   "cell_type": "code",
   "execution_count": 271,
   "metadata": {},
   "outputs": [],
   "source": [
    "clf = GradientBoostingClassifier(n_estimators=500,max_depth=10,min_samples_split=5,min_samples_leaf=3)"
   ]
  },
  {
   "cell_type": "code",
   "execution_count": 272,
   "metadata": {},
   "outputs": [
    {
     "name": "stderr",
     "output_type": "stream",
     "text": [
      "/opt/conda/lib/python3.6/site-packages/sklearn/utils/validation.py:578: DataConversionWarning: A column-vector y was passed when a 1d array was expected. Please change the shape of y to (n_samples, ), for example using ravel().\n",
      "  y = column_or_1d(y, warn=True)\n"
     ]
    },
    {
     "data": {
      "text/plain": [
       "GradientBoostingClassifier(criterion='friedman_mse', init=None,\n",
       "              learning_rate=0.1, loss='deviance', max_depth=10,\n",
       "              max_features=None, max_leaf_nodes=None,\n",
       "              min_impurity_decrease=0.0, min_impurity_split=None,\n",
       "              min_samples_leaf=3, min_samples_split=5,\n",
       "              min_weight_fraction_leaf=0.0, n_estimators=500,\n",
       "              presort='auto', random_state=None, subsample=1.0, verbose=0,\n",
       "              warm_start=False)"
      ]
     },
     "execution_count": 272,
     "metadata": {},
     "output_type": "execute_result"
    }
   ],
   "source": [
    "clf.fit(X,train_labels)"
   ]
  },
  {
   "cell_type": "code",
   "execution_count": 254,
   "metadata": {},
   "outputs": [],
   "source": [
    "pred_y = clf.predict(X_test)"
   ]
  },
  {
   "cell_type": "code",
   "execution_count": 255,
   "metadata": {},
   "outputs": [
    {
     "name": "stdout",
     "output_type": "stream",
     "text": [
      "Accuracy: 84.80%\n"
     ]
    }
   ],
   "source": [
    "accuracy = accuracy_score(y_test, pred_y )\n",
    "print(\"Accuracy: %.2f%%\" % (accuracy * 100.0))"
   ]
  },
  {
   "cell_type": "code",
   "execution_count": 273,
   "metadata": {},
   "outputs": [],
   "source": [
    "pred_y = pd.DataFrame(clf.predict(test_data))"
   ]
  },
  {
   "cell_type": "code",
   "execution_count": 274,
   "metadata": {},
   "outputs": [],
   "source": [
    "pred_y.columns = ['Solution']\n",
    "\n",
    "pred_y['Id'] = 1\n",
    "\n",
    "for i in range(len(pred_y)):\n",
    "    pred_y['Id'][i] = i+1\n",
    "\n",
    "pred_y = pred_y[['Id','Solution']]\n",
    "\n",
    "pred_y.to_csv('pred.csv', sep=',',index_label='Id',index=False)"
   ]
  },
  {
   "cell_type": "code",
   "execution_count": null,
   "metadata": {},
   "outputs": [],
   "source": []
  }
 ],
 "metadata": {
  "kernelspec": {
   "display_name": "Python 3",
   "language": "python",
   "name": "python3"
  },
  "language_info": {
   "codemirror_mode": {
    "name": "ipython",
    "version": 3
   },
   "file_extension": ".py",
   "mimetype": "text/x-python",
   "name": "python",
   "nbconvert_exporter": "python",
   "pygments_lexer": "ipython3",
   "version": "3.6.3"
  }
 },
 "nbformat": 4,
 "nbformat_minor": 2
}
