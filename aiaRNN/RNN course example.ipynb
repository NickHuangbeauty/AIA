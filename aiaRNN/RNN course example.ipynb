{
 "cells": [
  {
   "cell_type": "code",
   "execution_count": 1,
   "metadata": {},
   "outputs": [
    {
     "name": "stderr",
     "output_type": "stream",
     "text": [
      "Using TensorFlow backend.\n"
     ]
    }
   ],
   "source": [
    "import pandas as pd\n",
    "import numpy as np\n",
    "import matplotlib.pyplot as plt\n",
    "import tensorflow as tf\n",
    "import keras\n",
    "%matplotlib inline"
   ]
  },
  {
   "cell_type": "code",
   "execution_count": 2,
   "metadata": {
    "collapsed": true
   },
   "outputs": [],
   "source": [
    "# keras 整理好的 imdb 資料\n",
    "from keras.datasets import imdb"
   ]
  },
  {
   "cell_type": "code",
   "execution_count": 3,
   "metadata": {
    "collapsed": true
   },
   "outputs": [],
   "source": [
    "# num_words 找前 10000 個最常用的字\n",
    "(x_train, y_train), (x_test, y_test) = imdb.load_data(num_words=10000)"
   ]
  },
  {
   "cell_type": "code",
   "execution_count": 4,
   "metadata": {},
   "outputs": [
    {
     "data": {
      "text/plain": [
       "25000"
      ]
     },
     "execution_count": 4,
     "metadata": {},
     "output_type": "execute_result"
    }
   ],
   "source": [
    "# 訓練資料的長度\n",
    "len(x_train)"
   ]
  },
  {
   "cell_type": "code",
   "execution_count": 5,
   "metadata": {},
   "outputs": [
    {
     "data": {
      "text/plain": [
       "25000"
      ]
     },
     "execution_count": 5,
     "metadata": {},
     "output_type": "execute_result"
    }
   ],
   "source": [
    "# 測試資料的長度\n",
    "len(x_test)"
   ]
  },
  {
   "cell_type": "code",
   "execution_count": 6,
   "metadata": {},
   "outputs": [
    {
     "data": {
      "text/plain": [
       "(25000,)"
      ]
     },
     "execution_count": 6,
     "metadata": {},
     "output_type": "execute_result"
    }
   ],
   "source": [
    "x_train.shape"
   ]
  },
  {
   "cell_type": "code",
   "execution_count": 7,
   "metadata": {},
   "outputs": [
    {
     "data": {
      "text/plain": [
       "[1,\n",
       " 61,\n",
       " 795,\n",
       " 203,\n",
       " 30,\n",
       " 6,\n",
       " 227,\n",
       " 7,\n",
       " 6,\n",
       " 1361,\n",
       " 18,\n",
       " 51,\n",
       " 45,\n",
       " 290,\n",
       " 570,\n",
       " 150,\n",
       " 48,\n",
       " 25,\n",
       " 459,\n",
       " 195,\n",
       " 10,\n",
       " 10,\n",
       " 1907,\n",
       " 1698,\n",
       " 144,\n",
       " 28,\n",
       " 77,\n",
       " 3670,\n",
       " 6,\n",
       " 2300,\n",
       " 1523,\n",
       " 1338,\n",
       " 18,\n",
       " 154,\n",
       " 698,\n",
       " 372,\n",
       " 8,\n",
       " 79,\n",
       " 312,\n",
       " 23,\n",
       " 268,\n",
       " 14,\n",
       " 22,\n",
       " 9,\n",
       " 995,\n",
       " 4,\n",
       " 8171,\n",
       " 228,\n",
       " 9,\n",
       " 35,\n",
       " 8236,\n",
       " 17,\n",
       " 26,\n",
       " 4,\n",
       " 578,\n",
       " 5323,\n",
       " 3729,\n",
       " 15,\n",
       " 2,\n",
       " 1719,\n",
       " 56,\n",
       " 8,\n",
       " 931,\n",
       " 23,\n",
       " 4,\n",
       " 1321,\n",
       " 1103,\n",
       " 11,\n",
       " 4,\n",
       " 1749,\n",
       " 18,\n",
       " 463,\n",
       " 449,\n",
       " 13,\n",
       " 79,\n",
       " 12,\n",
       " 14,\n",
       " 9,\n",
       " 691,\n",
       " 6,\n",
       " 8338,\n",
       " 5,\n",
       " 7524,\n",
       " 20,\n",
       " 93,\n",
       " 3084,\n",
       " 34,\n",
       " 94,\n",
       " 2,\n",
       " 631,\n",
       " 956,\n",
       " 5,\n",
       " 4905,\n",
       " 2,\n",
       " 3981,\n",
       " 671,\n",
       " 8,\n",
       " 2,\n",
       " 1426,\n",
       " 23,\n",
       " 35,\n",
       " 311,\n",
       " 772,\n",
       " 41,\n",
       " 544,\n",
       " 584,\n",
       " 13,\n",
       " 100,\n",
       " 1227,\n",
       " 842,\n",
       " 4,\n",
       " 1588,\n",
       " 120,\n",
       " 33,\n",
       " 312,\n",
       " 211,\n",
       " 3413,\n",
       " 5611,\n",
       " 68,\n",
       " 2,\n",
       " 120,\n",
       " 4,\n",
       " 4197,\n",
       " 2,\n",
       " 15,\n",
       " 2,\n",
       " 14,\n",
       " 431,\n",
       " 249,\n",
       " 136,\n",
       " 776,\n",
       " 4905,\n",
       " 1027,\n",
       " 8,\n",
       " 2,\n",
       " 41,\n",
       " 2,\n",
       " 2,\n",
       " 23,\n",
       " 4,\n",
       " 890,\n",
       " 7,\n",
       " 1316,\n",
       " 11,\n",
       " 6,\n",
       " 2,\n",
       " 428,\n",
       " 2727,\n",
       " 1735,\n",
       " 24,\n",
       " 163,\n",
       " 24,\n",
       " 204,\n",
       " 24,\n",
       " 221,\n",
       " 24,\n",
       " 6,\n",
       " 52,\n",
       " 20,\n",
       " 4,\n",
       " 693,\n",
       " 241,\n",
       " 675,\n",
       " 9,\n",
       " 4,\n",
       " 959,\n",
       " 7,\n",
       " 2,\n",
       " 120,\n",
       " 9719,\n",
       " 92,\n",
       " 437,\n",
       " 129,\n",
       " 58]"
      ]
     },
     "execution_count": 7,
     "metadata": {},
     "output_type": "execute_result"
    }
   ],
   "source": [
    "# 看看第 87 筆資料長怎樣，Keras 的 imdb 的資料已經將字轉成數字\n",
    "# 轉法就是把所有資料裡面出現最多的字，依序排列下來，然後依序（由多到少）建成字典\n",
    "x_train[87]"
   ]
  },
  {
   "cell_type": "code",
   "execution_count": 8,
   "metadata": {},
   "outputs": [
    {
     "data": {
      "text/plain": [
       "[218, 189, 141, 550, 147, 43, 123, 562, 233, 130]"
      ]
     },
     "execution_count": 8,
     "metadata": {},
     "output_type": "execute_result"
    }
   ],
   "source": [
    "# 每筆資料長度的是不一樣的，但是 Keras 碰到長度不足的會自動補 0\n",
    "[len(x_train[i]) for i in range(10)]"
   ]
  },
  {
   "cell_type": "code",
   "execution_count": 9,
   "metadata": {
    "collapsed": true
   },
   "outputs": [],
   "source": [
    "# 利用 keras 把資料處理成同樣長度\n",
    "from keras.preprocessing import sequence\n",
    "x_train = sequence.pad_sequences(x_train, maxlen=100)\n",
    "x_test = sequence.pad_sequences(x_test, maxlen=100)"
   ]
  },
  {
   "cell_type": "code",
   "execution_count": 10,
   "metadata": {},
   "outputs": [
    {
     "data": {
      "text/plain": [
       "[100, 100, 100, 100, 100, 100, 100, 100, 100, 100]"
      ]
     },
     "execution_count": 10,
     "metadata": {},
     "output_type": "execute_result"
    }
   ],
   "source": [
    "# 觀察處理過後的長度\n",
    "[len(x_train[i]) for i in range(10)]"
   ]
  },
  {
   "cell_type": "code",
   "execution_count": 11,
   "metadata": {},
   "outputs": [
    {
     "data": {
      "text/plain": [
       "array([   0,    0,    0,    0,    0,    0,    0,    0,    0,    0,    0,\n",
       "          0,    0,    0,    0,    0,    0,    0,    0,    0,    0,    0,\n",
       "          0,    0,    0,    0,    0,    0,    0,    0,    0,    0,    0,\n",
       "          0,    0,    0,    0,    0,    0,    0,    0,    0,    0,    0,\n",
       "          0,    0,    0,    0,    0,    0,    0,    0,    0,    0,    0,\n",
       "          0,    0,    1,  778,  128,   74,   12,  630,  163,   15,    4,\n",
       "       1766, 7982, 1051,    2,   32,   85,  156,   45,   40,  148,  139,\n",
       "        121,  664,  665,   10,   10, 1361,  173,    4,  749,    2,   16,\n",
       "       3804,    8,    4,  226,   65,   12,   43,  127,   24,    2,   10,\n",
       "         10], dtype=int32)"
      ]
     },
     "execution_count": 11,
     "metadata": {},
     "output_type": "execute_result"
    }
   ],
   "source": [
    "# 原本少於 100 字的資料就會補 0 進去，補前面因為後面補 0 的時候要額外判斷與句結尾，\n",
    "x_train[5]"
   ]
  },
  {
   "cell_type": "markdown",
   "metadata": {},
   "source": [
    "## 打造RNN"
   ]
  },
  {
   "cell_type": "code",
   "execution_count": 12,
   "metadata": {
    "collapsed": true
   },
   "outputs": [],
   "source": [
    "from keras.models import Sequential\n",
    "from keras.layers import Dense, Embedding, LSTM"
   ]
  },
  {
   "cell_type": "code",
   "execution_count": 13,
   "metadata": {
    "collapsed": true
   },
   "outputs": [],
   "source": [
    "model = Sequential()"
   ]
  },
  {
   "cell_type": "code",
   "execution_count": 14,
   "metadata": {
    "collapsed": true
   },
   "outputs": [],
   "source": [
    "model.add(Embedding(10000, 128))"
   ]
  },
  {
   "cell_type": "code",
   "execution_count": 15,
   "metadata": {
    "collapsed": true
   },
   "outputs": [],
   "source": [
    "model.add(LSTM(150))"
   ]
  },
  {
   "cell_type": "code",
   "execution_count": 16,
   "metadata": {
    "collapsed": true
   },
   "outputs": [],
   "source": [
    "model.add(Dense(1, activation='sigmoid'))"
   ]
  },
  {
   "cell_type": "code",
   "execution_count": 17,
   "metadata": {
    "collapsed": true
   },
   "outputs": [],
   "source": [
    "model.compile(loss='binary_crossentropy', optimizer='adam', metrics=['accuracy'])"
   ]
  },
  {
   "cell_type": "code",
   "execution_count": 18,
   "metadata": {},
   "outputs": [
    {
     "name": "stdout",
     "output_type": "stream",
     "text": [
      "_________________________________________________________________\n",
      "Layer (type)                 Output Shape              Param #   \n",
      "=================================================================\n",
      "embedding_1 (Embedding)      (None, None, 128)         1280000   \n",
      "_________________________________________________________________\n",
      "lstm_1 (LSTM)                (None, 150)               167400    \n",
      "_________________________________________________________________\n",
      "dense_1 (Dense)              (None, 1)                 151       \n",
      "=================================================================\n",
      "Total params: 1,447,551\n",
      "Trainable params: 1,447,551\n",
      "Non-trainable params: 0\n",
      "_________________________________________________________________\n"
     ]
    }
   ],
   "source": [
    "model.summary()"
   ]
  },
  {
   "cell_type": "code",
   "execution_count": 19,
   "metadata": {
    "collapsed": true
   },
   "outputs": [],
   "source": [
    "from keras.utils import plot_model\n",
    "#from keras.utils.vis_utils import plot_model"
   ]
  },
  {
   "cell_type": "code",
   "execution_count": 20,
   "metadata": {
    "scrolled": false
   },
   "outputs": [],
   "source": [
    "plot_model(model, show_shapes=True, to_file='RNN.png')"
   ]
  },
  {
   "cell_type": "markdown",
   "metadata": {
    "collapsed": true
   },
   "source": [
    "![RNN](RNN.png)"
   ]
  },
  {
   "cell_type": "code",
   "execution_count": 21,
   "metadata": {},
   "outputs": [
    {
     "name": "stdout",
     "output_type": "stream",
     "text": [
      "Epoch 1/2\n",
      "25000/25000 [==============================] - 195s - loss: 0.4288 - acc: 0.7980   \n",
      "Epoch 2/2\n",
      "25000/25000 [==============================] - 192s - loss: 0.2647 - acc: 0.8928   \n"
     ]
    },
    {
     "data": {
      "text/plain": [
       "<keras.callbacks.History at 0x116c71748>"
      ]
     },
     "execution_count": 21,
     "metadata": {},
     "output_type": "execute_result"
    }
   ],
   "source": [
    "model.fit(x_train, y_train,\n",
    "         batch_size = 32,\n",
    "         epochs = 2)"
   ]
  },
  {
   "cell_type": "code",
   "execution_count": 25,
   "metadata": {
    "collapsed": true
   },
   "outputs": [],
   "source": [
    "model.save('rnn.h5')"
   ]
  },
  {
   "cell_type": "code",
   "execution_count": 22,
   "metadata": {},
   "outputs": [],
   "source": [
    "model.load_weights('rnn.h5')"
   ]
  },
  {
   "cell_type": "code",
   "execution_count": 23,
   "metadata": {},
   "outputs": [
    {
     "name": "stdout",
     "output_type": "stream",
     "text": [
      "24992/25000 [============================>.] - ETA: 0s"
     ]
    }
   ],
   "source": [
    "score = model.evaluate(x_test, y_test)"
   ]
  },
  {
   "cell_type": "code",
   "execution_count": 25,
   "metadata": {},
   "outputs": [
    {
     "name": "stdout",
     "output_type": "stream",
     "text": [
      "loss: 0.343483824902\n",
      "acc: 0.8516\n"
     ]
    }
   ],
   "source": [
    "print(\"loss:\",score[0])\n",
    "print(\"acc:\",score[1])"
   ]
  },
  {
   "cell_type": "markdown",
   "metadata": {},
   "source": [
    "## SELU"
   ]
  },
  {
   "cell_type": "code",
   "execution_count": 26,
   "metadata": {
    "collapsed": true
   },
   "outputs": [],
   "source": [
    "x = np.linspace(-5, 10, 200)"
   ]
  },
  {
   "cell_type": "code",
   "execution_count": 56,
   "metadata": {
    "collapsed": true
   },
   "outputs": [],
   "source": [
    "def selu(x):\n",
    "    y = []\n",
    "    lamba = 1.050700987\n",
    "    alpha = 1.673263242\n",
    "    if type(x) != int:\n",
    "        for i in range(len(x)):\n",
    "            if x[i] <= 0:\n",
    "                y.append(lamba * (alpha * np.exp(x[i]) - alpha))\n",
    "            else:\n",
    "                y.append(lamba * x[i])\n",
    "    else:\n",
    "        if x <= 0:\n",
    "            y.append(lamba * (alpha * np.exp(x) - alpha))\n",
    "        else:\n",
    "            y.append(lamba * x)\n",
    "    return y"
   ]
  },
  {
   "cell_type": "code",
   "execution_count": 54,
   "metadata": {},
   "outputs": [],
   "source": [
    "y = selu(x)"
   ]
  },
  {
   "cell_type": "code",
   "execution_count": 41,
   "metadata": {},
   "outputs": [
    {
     "data": {
      "text/plain": [
       "[<matplotlib.lines.Line2D at 0x11c98a898>]"
      ]
     },
     "execution_count": 41,
     "metadata": {},
     "output_type": "execute_result"
    },
    {
     "data": {
      "image/png": "[encoded data removed]",
      "text/plain": [
       "<matplotlib.figure.Figure at 0x11b3a5ac8>"
      ]
     },
     "metadata": {},
     "output_type": "display_data"
    }
   ],
   "source": [
    "plt.plot(x, y)"
   ]
  },
  {
   "cell_type": "code",
   "execution_count": null,
   "metadata": {
    "collapsed": true
   },
   "outputs": [],
   "source": []
  }
 ],
 "metadata": {
  "kernelspec": {
   "display_name": "Python 3",
   "language": "python",
   "name": "python3"
  },
  "language_info": {
   "codemirror_mode": {
    "name": "ipython",
    "version": 3
   },
   "file_extension": ".py",
   "mimetype": "text/x-python",
   "name": "python",
   "nbconvert_exporter": "python",
   "pygments_lexer": "ipython3",
   "version": "3.6.2"
  }
 },
 "nbformat": 4,
 "nbformat_minor": 2
}
